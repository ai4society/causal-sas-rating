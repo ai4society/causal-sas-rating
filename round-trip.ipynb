{
 "cells": [
  {
   "cell_type": "code",
   "execution_count": 1,
   "id": "1e855300",
   "metadata": {},
   "outputs": [],
   "source": [
    "from googletrans import Translator\n",
    "import os\n",
    "import pandas as pd"
   ]
  },
  {
   "cell_type": "code",
   "execution_count": 2,
   "id": "f5482561",
   "metadata": {},
   "outputs": [],
   "source": [
    "#'es' : spanish, 'da' : danish\n",
    "def roundtrip(s):\n",
    "    sp = translator.translate(s, dest = 'da').text\n",
    "    rt = translator.translate(sp).text\n",
    "    return rt"
   ]
  },
  {
   "cell_type": "code",
   "execution_count": 3,
   "id": "65e445c9",
   "metadata": {},
   "outputs": [],
   "source": [
    "translator = Translator()"
   ]
  },
  {
   "cell_type": "code",
   "execution_count": 7,
   "id": "eb3c4b6f",
   "metadata": {},
   "outputs": [
    {
     "name": "stdout",
     "output_type": "stream",
     "text": [
      "group1:\n",
      "---------------\n",
      "e1.csv done\n",
      "e2.csv done\n",
      "e3.csv done\n",
      "e4.csv done\n",
      "e5.csv done\n",
      "------------\n",
      "group2:\n",
      "---------------\n",
      "e3.csv done\n",
      "e4.csv done\n",
      "e5.csv done\n",
      "------------\n",
      "group3:\n",
      "---------------\n",
      "e1.csv done\n",
      "e2.csv done\n",
      "e3.csv done\n",
      "e4.csv done\n",
      "e5.csv done\n",
      "------------\n",
      "group4:\n",
      "---------------\n",
      "e3.csv done\n",
      "e4.csv done\n",
      "e5.csv done\n",
      "------------\n"
     ]
    }
   ],
   "source": [
    "# for EEC data\n",
    "path = './data/data-generated/'\n",
    "for gr in os.listdir(path)[:-1]:\n",
    "    print(gr + ':')\n",
    "    print('---------------')\n",
    "    np = path + gr + '/'\n",
    "    for e in os.listdir(np):\n",
    "        fp = np + e\n",
    "        df = pd.read_csv(fp)\n",
    "        op = []\n",
    "        for i in list(df['Sentences']):\n",
    "            op.append(roundtrip(i))\n",
    "\n",
    "        df['Sentences'] = op\n",
    "        df.to_csv(fp, index = False)    \n",
    "        print(e + ' done')\n",
    "    print('------------')"
   ]
  },
  {
   "cell_type": "code",
   "execution_count": 8,
   "id": "86104488",
   "metadata": {},
   "outputs": [],
   "source": [
    "# for allure data\n",
    "path = './data/real-world/allure/final/final_expt.csv'\n",
    "df = pd.read_csv(path)\n",
    "df_g = pd.read_csv(path)\n",
    "op = []\n",
    "for i in list(df['Text']):\n",
    "    op.append(roundtrip(i))\n",
    "\n",
    "df['Text'] = op\n",
    "df.to_csv(path, index = False)"
   ]
  },
  {
   "cell_type": "code",
   "execution_count": 9,
   "id": "06a9f977",
   "metadata": {},
   "outputs": [],
   "source": [
    "# for unibot data\n",
    "path = './data/real-world/unibot/final/final_expt.csv'\n",
    "df = pd.read_csv(path)\n",
    "df_g = pd.read_csv(path)\n",
    "op = []\n",
    "for i in list(df['Text']):\n",
    "    op.append(roundtrip(i))\n",
    "\n",
    "df['Text'] = op\n",
    "df.to_csv(path, index = False)"
   ]
  },
  {
   "cell_type": "code",
   "execution_count": null,
   "id": "347ca50d",
   "metadata": {},
   "outputs": [],
   "source": []
  }
 ],
 "metadata": {
  "kernelspec": {
   "display_name": "Python 3",
   "language": "python",
   "name": "python3"
  },
  "language_info": {
   "codemirror_mode": {
    "name": "ipython",
    "version": 3
   },
   "file_extension": ".py",
   "mimetype": "text/x-python",
   "name": "python",
   "nbconvert_exporter": "python",
   "pygments_lexer": "ipython3",
   "version": "3.7.15"
  }
 },
 "nbformat": 4,
 "nbformat_minor": 5
}
