{
 "cells": [
  {
   "cell_type": "markdown",
   "metadata": {},
   "source": [
    "## ALLURE Chatbot Data"
   ]
  },
  {
   "cell_type": "code",
   "execution_count": 127,
   "metadata": {},
   "outputs": [
    {
     "name": "stderr",
     "output_type": "stream",
     "text": [
      "[nltk_data] Downloading package words to\n",
      "[nltk_data]     C:\\Users\\klakk\\AppData\\Roaming\\nltk_data...\n",
      "[nltk_data]   Unzipping corpora\\words.zip.\n"
     ]
    },
    {
     "data": {
      "text/plain": [
       "True"
      ]
     },
     "execution_count": 127,
     "metadata": {},
     "output_type": "execute_result"
    }
   ],
   "source": [
    "import pandas as pd\n",
    "import matplotlib.pyplot as plt\n",
    "from nltk.corpus import stopwords\n",
    "import nltk\n",
    "nltk.download(\"words\")\n",
    "# from enchant.checker import SpellChecker"
   ]
  },
  {
   "cell_type": "code",
   "execution_count": 3,
   "metadata": {},
   "outputs": [],
   "source": [
    "data = pd.read_csv('../../data/real-world/allure/final/final.csv')"
   ]
  },
  {
   "cell_type": "code",
   "execution_count": 4,
   "metadata": {},
   "outputs": [
    {
     "data": {
      "text/html": [
       "<div>\n",
       "<style scoped>\n",
       "    .dataframe tbody tr th:only-of-type {\n",
       "        vertical-align: middle;\n",
       "    }\n",
       "\n",
       "    .dataframe tbody tr th {\n",
       "        vertical-align: top;\n",
       "    }\n",
       "\n",
       "    .dataframe thead th {\n",
       "        text-align: right;\n",
       "    }\n",
       "</style>\n",
       "<table border=\"1\" class=\"dataframe\">\n",
       "  <thead>\n",
       "    <tr style=\"text-align: right;\">\n",
       "      <th></th>\n",
       "      <th>C_num</th>\n",
       "      <th>UB</th>\n",
       "      <th>User_gender</th>\n",
       "      <th>Text</th>\n",
       "    </tr>\n",
       "  </thead>\n",
       "  <tbody>\n",
       "    <tr>\n",
       "      <th>0</th>\n",
       "      <td>1</td>\n",
       "      <td>0</td>\n",
       "      <td>0</td>\n",
       "      <td>Hello, welcome to ALLURE! I'm Ally and I want ...</td>\n",
       "    </tr>\n",
       "    <tr>\n",
       "      <th>1</th>\n",
       "      <td>1</td>\n",
       "      <td>0</td>\n",
       "      <td>0</td>\n",
       "      <td>Today we'll learn the different moves you need...</td>\n",
       "    </tr>\n",
       "    <tr>\n",
       "      <th>2</th>\n",
       "      <td>1</td>\n",
       "      <td>0</td>\n",
       "      <td>0</td>\n",
       "      <td>Would you like to hear more about the white c...</td>\n",
       "    </tr>\n",
       "    <tr>\n",
       "      <th>3</th>\n",
       "      <td>1</td>\n",
       "      <td>1</td>\n",
       "      <td>0</td>\n",
       "      <td>Level 1</td>\n",
       "    </tr>\n",
       "    <tr>\n",
       "      <th>4</th>\n",
       "      <td>1</td>\n",
       "      <td>0</td>\n",
       "      <td>0</td>\n",
       "      <td>Level: 1</td>\n",
       "    </tr>\n",
       "  </tbody>\n",
       "</table>\n",
       "</div>"
      ],
      "text/plain": [
       "   C_num  UB  User_gender                                               Text\n",
       "0      1   0            0  Hello, welcome to ALLURE! I'm Ally and I want ...\n",
       "1      1   0            0  Today we'll learn the different moves you need...\n",
       "2      1   0            0   Would you like to hear more about the white c...\n",
       "3      1   1            0                                            Level 1\n",
       "4      1   0            0                                           Level: 1"
      ]
     },
     "execution_count": 4,
     "metadata": {},
     "output_type": "execute_result"
    }
   ],
   "source": [
    "data.head()"
   ]
  },
  {
   "cell_type": "code",
   "execution_count": 80,
   "metadata": {},
   "outputs": [
    {
     "name": "stdout",
     "output_type": "stream",
     "text": [
      "C_num denotes conversation number.\n",
      "C_num\n",
      "1     18\n",
      "2     21\n",
      "3     30\n",
      "4     49\n",
      "5     71\n",
      "6     22\n",
      "7     41\n",
      "8     33\n",
      "9     37\n",
      "10    29\n",
      "11    22\n",
      "12    27\n",
      "13    20\n",
      "14     5\n",
      "15    27\n",
      "16    30\n",
      "17    28\n",
      "18    33\n",
      "Name: UB, dtype: int64\n",
      "The average number of dialogues are: \n",
      "30.17\n"
     ]
    }
   ],
   "source": [
    "# Each dialog is a series of turns.\n",
    "data_groups = data.groupby('C_num')\n",
    "\n",
    "# Calculate the difference between consecutive rows. If it is 1, calculate the number of times this difference is 1.\n",
    "num_dialogues = data_groups['UB'].apply(lambda x: (x.diff() == 1).sum())\n",
    "avg_dialogues = data_groups['UB'].apply(lambda x: (x.diff() == 1).sum()).mean()\n",
    "\n",
    "print(\"C_num denotes conversation number.\")\n",
    "print(num_dialogues)\n",
    "\n",
    "print(\"The average number of dialogues are: \")\n",
    "print(round(avg_dialogues,2))"
   ]
  },
  {
   "cell_type": "code",
   "execution_count": 84,
   "metadata": {},
   "outputs": [
    {
     "data": {
      "image/png": "[encoded data removed]",
      "text/plain": [
       "<Figure size 432x288 with 1 Axes>"
      ]
     },
     "metadata": {
      "needs_background": "light"
     },
     "output_type": "display_data"
    }
   ],
   "source": [
    "# Draw a graph\n",
    "num_dialogues.plot(kind='bar')\n",
    "plt.xlabel('Conversation number')\n",
    "plt.ylabel('Number of dialogues')\n",
    "plt.title('Number of dialogues in each conversation')\n",
    "plt.show()"
   ]
  },
  {
   "cell_type": "code",
   "execution_count": 86,
   "metadata": {},
   "outputs": [
    {
     "name": "stdout",
     "output_type": "stream",
     "text": [
      "C_num denotes conversation number.\n",
      "Number of bot utterances in each conversation: \n",
      "C_num\n",
      "1      75\n",
      "2      88\n",
      "3     120\n",
      "4     188\n",
      "5     277\n",
      "6      90\n",
      "7     169\n",
      "8     120\n",
      "9     153\n",
      "10    115\n",
      "11     89\n",
      "12    102\n",
      "13     83\n",
      "14     16\n",
      "15    115\n",
      "16     98\n",
      "17    107\n",
      "18    109\n",
      "Name: UB, dtype: int64\n",
      "Average number of bot utterances are: \n",
      "117.44\n"
     ]
    }
   ],
   "source": [
    "data_groups = data.groupby('C_num')\n",
    "bot_utterances = data_groups['UB'].apply(lambda x: (x == 0).sum())\n",
    "bot_utterances_avg = data_groups['UB'].apply(lambda x: (x == 0).sum()).mean()\n",
    "user_utterances = data_groups['UB'].apply(lambda x: (x == 1).sum())\n",
    "user_utterances_avg = data_groups['UB'].apply(lambda x: (x == 1).sum()).mean()\n",
    "\n",
    "\n",
    "print(\"C_num denotes conversation number.\")\n",
    "print(\"Number of bot utterances in each conversation: \")\n",
    "print(bot_utterances)\n",
    "print(\"Average number of bot utterances are: \")\n",
    "print(round(bot_utterances_avg,2))\n"
   ]
  },
  {
   "cell_type": "code",
   "execution_count": 87,
   "metadata": {},
   "outputs": [
    {
     "data": {
      "image/png": "[encoded data removed]",
      "text/plain": [
       "<Figure size 432x288 with 1 Axes>"
      ]
     },
     "metadata": {
      "needs_background": "light"
     },
     "output_type": "display_data"
    }
   ],
   "source": [
    "bot_utterances.plot(kind='bar')\n",
    "plt.xlabel('Conversation number')\n",
    "plt.ylabel('Number of bot utterances')\n",
    "plt.title('Number of bot utterances in each conversation')\n",
    "plt.show()"
   ]
  },
  {
   "cell_type": "code",
   "execution_count": 88,
   "metadata": {},
   "outputs": [
    {
     "name": "stdout",
     "output_type": "stream",
     "text": [
      "Number of user utterances in each conversation: \n",
      "C_num\n",
      "1     18\n",
      "2     23\n",
      "3     32\n",
      "4     83\n",
      "5     83\n",
      "6     22\n",
      "7     42\n",
      "8     36\n",
      "9     43\n",
      "10    38\n",
      "11    22\n",
      "12    27\n",
      "13    20\n",
      "14     7\n",
      "15    27\n",
      "16    35\n",
      "17    29\n",
      "18    39\n",
      "Name: UB, dtype: int64\n",
      "Average number of user utterances are: \n",
      "34.78\n"
     ]
    }
   ],
   "source": [
    "print(\"Number of user utterances in each conversation: \")\n",
    "print(user_utterances)\n",
    "print(\"Average number of user utterances are: \")\n",
    "print(round(user_utterances_avg,2))"
   ]
  },
  {
   "cell_type": "code",
   "execution_count": 89,
   "metadata": {},
   "outputs": [
    {
     "data": {
      "image/png": "[encoded data removed]",
      "text/plain": [
       "<Figure size 432x288 with 1 Axes>"
      ]
     },
     "metadata": {
      "needs_background": "light"
     },
     "output_type": "display_data"
    }
   ],
   "source": [
    "user_utterances.plot(kind='bar')\n",
    "plt.xlabel('Conversation number')\n",
    "plt.ylabel('Number of user utterances')\n",
    "plt.title('Number of user utterances in each conversation')\n",
    "plt.show()"
   ]
  },
  {
   "cell_type": "code",
   "execution_count": 90,
   "metadata": {},
   "outputs": [],
   "source": [
    "data0 = data[data['UB'] == 0]\n",
    "data1 = data[data['UB'] == 1]"
   ]
  },
  {
   "cell_type": "code",
   "execution_count": 95,
   "metadata": {},
   "outputs": [],
   "source": [
    "stop_words = set(stopwords.words('english'))\n",
    "\n",
    "def count_stop_words(text):\n",
    "    tokens = nltk.word_tokenize(str(text).lower())\n",
    "    sw_count = sum([1 for token in tokens if token in stop_words])\n",
    "\n",
    "    return sw_count"
   ]
  },
  {
   "cell_type": "code",
   "execution_count": 101,
   "metadata": {},
   "outputs": [
    {
     "name": "stdout",
     "output_type": "stream",
     "text": [
      "Average number of stopwords used by the chatbot: \n",
      "5.581362346263009\n",
      "Average number of stopwords used by the user: \n",
      "0.01437699680511182\n"
     ]
    }
   ],
   "source": [
    "print(\"Average number of stopwords used by the chatbot: \")\n",
    "print(data0['Text'].apply(count_stop_words).mean())\n",
    "print(\"Average number of stopwords used by the user: \")\n",
    "print(data1['Text'].apply(count_stop_words).mean())"
   ]
  },
  {
   "cell_type": "code",
   "execution_count": 133,
   "metadata": {},
   "outputs": [],
   "source": [
    "data = pd.read_csv('../../data/real-world/allure/final/final.csv')\n",
    "def count_typo_noise(text):\n",
    "    tokens = nltk.word_tokenize(str(text).lower())\n",
    "    typos = 0\n",
    "\n",
    "    for each in tokens:\n",
    "        if nltk.edit_distance(each, nltk.corpus.words.words()) > 1:\n",
    "            typos = typos + 1\n",
    "    \n",
    "    return typos"
   ]
  },
  {
   "cell_type": "code",
   "execution_count": 148,
   "metadata": {},
   "outputs": [],
   "source": [
    "num_typo_noise_bot = data[data['UB'] == 0]['Text'].apply(count_typo_noise)"
   ]
  },
  {
   "cell_type": "code",
   "execution_count": null,
   "metadata": {},
   "outputs": [],
   "source": [
    "num_typo_noise_user = data[data['UB'] == 1]['Text'].apply(count_typo_noise)"
   ]
  },
  {
   "cell_type": "code",
   "execution_count": null,
   "metadata": {},
   "outputs": [],
   "source": [
    "print(\"The average number of typo errors in the bot conversation are: \")\n",
    "print(num_typo_noise_bot.mean())\n",
    "print(\"The average number of typo errors in the user conversation are: \")\n",
    "print(num_typo_noise_user.mean())"
   ]
  }
 ],
 "metadata": {
  "kernelspec": {
   "display_name": "Python 3.8.0 ('sentiment')",
   "language": "python",
   "name": "python3"
  },
  "language_info": {
   "codemirror_mode": {
    "name": "ipython",
    "version": 3
   },
   "file_extension": ".py",
   "mimetype": "text/x-python",
   "name": "python",
   "nbconvert_exporter": "python",
   "pygments_lexer": "ipython3",
   "version": "3.8.0"
  },
  "orig_nbformat": 4,
  "vscode": {
   "interpreter": {
    "hash": "44038c61ed3fd8e211ee633faef784b8082885d4a620175d7a3b1b5ca871e1bf"
   }
  }
 },
 "nbformat": 4,
 "nbformat_minor": 2
}
