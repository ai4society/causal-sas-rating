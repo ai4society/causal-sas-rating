{
 "cells": [
  {
   "cell_type": "code",
   "execution_count": 1,
   "metadata": {},
   "outputs": [],
   "source": [
    "import pandas as pd "
   ]
  },
  {
   "cell_type": "code",
   "execution_count": 2,
   "metadata": {},
   "outputs": [],
   "source": [
    "data0 = pd.read_csv('../../data/real-world/allure/converted/May 2022-Study 0-without user task.csv')"
   ]
  },
  {
   "cell_type": "code",
   "execution_count": 3,
   "metadata": {},
   "outputs": [
    {
     "data": {
      "text/html": [
       "<div>\n",
       "<style scoped>\n",
       "    .dataframe tbody tr th:only-of-type {\n",
       "        vertical-align: middle;\n",
       "    }\n",
       "\n",
       "    .dataframe tbody tr th {\n",
       "        vertical-align: top;\n",
       "    }\n",
       "\n",
       "    .dataframe thead th {\n",
       "        text-align: right;\n",
       "    }\n",
       "</style>\n",
       "<table border=\"1\" class=\"dataframe\">\n",
       "  <thead>\n",
       "    <tr style=\"text-align: right;\">\n",
       "      <th></th>\n",
       "      <th>Gender</th>\n",
       "      <th>user</th>\n",
       "      <th>conversation.conversation.text</th>\n",
       "      <th>conversation.conversation.sender</th>\n",
       "      <th>conversation.conversation.type</th>\n",
       "      <th>conversation.conversation.chosenReply</th>\n",
       "      <th>conversation.lastUpdate</th>\n",
       "      <th>conversation.session_id</th>\n",
       "      <th>conversation.params.connected</th>\n",
       "      <th>conversation.params.disabledInput</th>\n",
       "      <th>...</th>\n",
       "      <th>Unnamed: 150</th>\n",
       "      <th>Unnamed: 151</th>\n",
       "      <th>Unnamed: 152</th>\n",
       "      <th>Unnamed: 153</th>\n",
       "      <th>Unnamed: 154</th>\n",
       "      <th>Unnamed: 155</th>\n",
       "      <th>Unnamed: 156</th>\n",
       "      <th>Unnamed: 157</th>\n",
       "      <th>Unnamed: 158</th>\n",
       "      <th>Unnamed: 159</th>\n",
       "    </tr>\n",
       "  </thead>\n",
       "  <tbody>\n",
       "    <tr>\n",
       "      <th>0</th>\n",
       "      <td>Prefer not to say</td>\n",
       "      <td>1013@ALLURE.com</td>\n",
       "      <td>Hello, welcome to ALLURE! I'm Ally and I want ...</td>\n",
       "      <td>response</td>\n",
       "      <td>buttons</td>\n",
       "      <td>NaN</td>\n",
       "      <td>1.652710e+12</td>\n",
       "      <td>10988281524e43ff81cb76d3022cffe2</td>\n",
       "      <td>True</td>\n",
       "      <td>False</td>\n",
       "      <td>...</td>\n",
       "      <td>NaN</td>\n",
       "      <td>NaN</td>\n",
       "      <td>NaN</td>\n",
       "      <td>NaN</td>\n",
       "      <td>NaN</td>\n",
       "      <td>NaN</td>\n",
       "      <td>NaN</td>\n",
       "      <td>NaN</td>\n",
       "      <td>NaN</td>\n",
       "      <td>NaN</td>\n",
       "    </tr>\n",
       "    <tr>\n",
       "      <th>1</th>\n",
       "      <td>NaN</td>\n",
       "      <td>NaN</td>\n",
       "      <td>Today we'll learn the different moves you need...</td>\n",
       "      <td>response</td>\n",
       "      <td>buttons</td>\n",
       "      <td>NaN</td>\n",
       "      <td>NaN</td>\n",
       "      <td>NaN</td>\n",
       "      <td>NaN</td>\n",
       "      <td>NaN</td>\n",
       "      <td>...</td>\n",
       "      <td>NaN</td>\n",
       "      <td>NaN</td>\n",
       "      <td>NaN</td>\n",
       "      <td>NaN</td>\n",
       "      <td>NaN</td>\n",
       "      <td>NaN</td>\n",
       "      <td>NaN</td>\n",
       "      <td>NaN</td>\n",
       "      <td>NaN</td>\n",
       "      <td>NaN</td>\n",
       "    </tr>\n",
       "    <tr>\n",
       "      <th>2</th>\n",
       "      <td>NaN</td>\n",
       "      <td>NaN</td>\n",
       "      <td>Would you like to hear more about the white c...</td>\n",
       "      <td>response</td>\n",
       "      <td>buttons</td>\n",
       "      <td>NaN</td>\n",
       "      <td>NaN</td>\n",
       "      <td>NaN</td>\n",
       "      <td>NaN</td>\n",
       "      <td>NaN</td>\n",
       "      <td>...</td>\n",
       "      <td>NaN</td>\n",
       "      <td>NaN</td>\n",
       "      <td>NaN</td>\n",
       "      <td>NaN</td>\n",
       "      <td>NaN</td>\n",
       "      <td>NaN</td>\n",
       "      <td>NaN</td>\n",
       "      <td>NaN</td>\n",
       "      <td>NaN</td>\n",
       "      <td>NaN</td>\n",
       "    </tr>\n",
       "    <tr>\n",
       "      <th>3</th>\n",
       "      <td>NaN</td>\n",
       "      <td>NaN</td>\n",
       "      <td>NaN</td>\n",
       "      <td>NaN</td>\n",
       "      <td>NaN</td>\n",
       "      <td>NaN</td>\n",
       "      <td>NaN</td>\n",
       "      <td>NaN</td>\n",
       "      <td>NaN</td>\n",
       "      <td>NaN</td>\n",
       "      <td>...</td>\n",
       "      <td>NaN</td>\n",
       "      <td>NaN</td>\n",
       "      <td>NaN</td>\n",
       "      <td>NaN</td>\n",
       "      <td>NaN</td>\n",
       "      <td>NaN</td>\n",
       "      <td>NaN</td>\n",
       "      <td>NaN</td>\n",
       "      <td>NaN</td>\n",
       "      <td>NaN</td>\n",
       "    </tr>\n",
       "    <tr>\n",
       "      <th>4</th>\n",
       "      <td>NaN</td>\n",
       "      <td>NaN</td>\n",
       "      <td>Level 1</td>\n",
       "      <td>client</td>\n",
       "      <td>text</td>\n",
       "      <td>NaN</td>\n",
       "      <td>NaN</td>\n",
       "      <td>NaN</td>\n",
       "      <td>NaN</td>\n",
       "      <td>NaN</td>\n",
       "      <td>...</td>\n",
       "      <td>NaN</td>\n",
       "      <td>NaN</td>\n",
       "      <td>NaN</td>\n",
       "      <td>NaN</td>\n",
       "      <td>NaN</td>\n",
       "      <td>NaN</td>\n",
       "      <td>NaN</td>\n",
       "      <td>NaN</td>\n",
       "      <td>NaN</td>\n",
       "      <td>NaN</td>\n",
       "    </tr>\n",
       "  </tbody>\n",
       "</table>\n",
       "<p>5 rows × 160 columns</p>\n",
       "</div>"
      ],
      "text/plain": [
       "              Gender             user  \\\n",
       "0  Prefer not to say  1013@ALLURE.com   \n",
       "1                NaN              NaN   \n",
       "2                NaN              NaN   \n",
       "3                NaN              NaN   \n",
       "4                NaN              NaN   \n",
       "\n",
       "                      conversation.conversation.text  \\\n",
       "0  Hello, welcome to ALLURE! I'm Ally and I want ...   \n",
       "1  Today we'll learn the different moves you need...   \n",
       "2   Would you like to hear more about the white c...   \n",
       "3                                                NaN   \n",
       "4                                            Level 1   \n",
       "\n",
       "  conversation.conversation.sender conversation.conversation.type  \\\n",
       "0                         response                        buttons   \n",
       "1                         response                        buttons   \n",
       "2                         response                        buttons   \n",
       "3                              NaN                            NaN   \n",
       "4                           client                           text   \n",
       "\n",
       "  conversation.conversation.chosenReply  conversation.lastUpdate  \\\n",
       "0                                   NaN             1.652710e+12   \n",
       "1                                   NaN                      NaN   \n",
       "2                                   NaN                      NaN   \n",
       "3                                   NaN                      NaN   \n",
       "4                                   NaN                      NaN   \n",
       "\n",
       "            conversation.session_id conversation.params.connected  \\\n",
       "0  10988281524e43ff81cb76d3022cffe2                          True   \n",
       "1                               NaN                           NaN   \n",
       "2                               NaN                           NaN   \n",
       "3                               NaN                           NaN   \n",
       "4                               NaN                           NaN   \n",
       "\n",
       "  conversation.params.disabledInput  ...  Unnamed: 150 Unnamed: 151  \\\n",
       "0                             False  ...           NaN          NaN   \n",
       "1                               NaN  ...           NaN          NaN   \n",
       "2                               NaN  ...           NaN          NaN   \n",
       "3                               NaN  ...           NaN          NaN   \n",
       "4                               NaN  ...           NaN          NaN   \n",
       "\n",
       "  Unnamed: 152 Unnamed: 153  Unnamed: 154 Unnamed: 155 Unnamed: 156  \\\n",
       "0          NaN          NaN           NaN          NaN          NaN   \n",
       "1          NaN          NaN           NaN          NaN          NaN   \n",
       "2          NaN          NaN           NaN          NaN          NaN   \n",
       "3          NaN          NaN           NaN          NaN          NaN   \n",
       "4          NaN          NaN           NaN          NaN          NaN   \n",
       "\n",
       "  Unnamed: 157 Unnamed: 158 Unnamed: 159  \n",
       "0          NaN          NaN          NaN  \n",
       "1          NaN          NaN          NaN  \n",
       "2          NaN          NaN          NaN  \n",
       "3          NaN          NaN          NaN  \n",
       "4          NaN          NaN          NaN  \n",
       "\n",
       "[5 rows x 160 columns]"
      ]
     },
     "execution_count": 3,
     "metadata": {},
     "output_type": "execute_result"
    }
   ],
   "source": [
    "data0.head()"
   ]
  },
  {
   "cell_type": "code",
   "execution_count": 24,
   "metadata": {},
   "outputs": [
    {
     "name": "stdout",
     "output_type": "stream",
     "text": [
      "['1013@ALLURE.com', '1001@allure.com', '1009@allure.com', '1014@allure.com', '1002@allure.com', '1052@allure.com', '1003@allure.com', '1004@allure.com', '1053@allure.com', '1007@allure.com']\n"
     ]
    }
   ],
   "source": [
    "users = [u for u in data0['user'] if type(u)==str]\n",
    "print(users)"
   ]
  },
  {
   "cell_type": "code",
   "execution_count": 25,
   "metadata": {},
   "outputs": [
    {
     "name": "stdout",
     "output_type": "stream",
     "text": [
      "['Prefer not to say', 'Male', 'Female', 'Male', 'Female', 'Male', 'Female', 'Male', 'Male', 'Male']\n"
     ]
    }
   ],
   "source": [
    "gender = [u for u in data0['Gender'] if type(u)==str]\n",
    "print(gender)"
   ]
  },
  {
   "cell_type": "code",
   "execution_count": 30,
   "metadata": {},
   "outputs": [
    {
     "name": "stdout",
     "output_type": "stream",
     "text": [
      "[0, 184, 399, 704, 1283, 1959, 2174, 2580, 2909, 3261]\n"
     ]
    }
   ],
   "source": [
    "idx = []\n",
    "for u in data0['user']:\n",
    "    if type(u)==str:\n",
    "        idx.append(list(data0['user']).index(u))\n",
    "        \n",
    "print(idx)     "
   ]
  },
  {
   "cell_type": "code",
   "execution_count": 44,
   "metadata": {},
   "outputs": [],
   "source": [
    "bot_convs = []\n",
    "for each in range(len(idx)-1):\n",
    "    bot_convs.append(data0['conversation.conversation.text'][idx[each]:idx[each+1]])\n",
    "bot_convs.append(data0['conversation.conversation.text'][idx[-1]:])"
   ]
  },
  {
   "cell_type": "code",
   "execution_count": 45,
   "metadata": {},
   "outputs": [],
   "source": [
    "user_convs = []\n",
    "for each in range(len(idx)-1):\n",
    "    user_convs.append(data0['conversation.conversation.quick_replies.title'][idx[each]:idx[each+1]])\n",
    "user_convs.append(data0['conversation.conversation.quick_replies.title'][idx[-1]:])"
   ]
  },
  {
   "cell_type": "code",
   "execution_count": null,
   "metadata": {},
   "outputs": [],
   "source": []
  }
 ],
 "metadata": {
  "kernelspec": {
   "display_name": "Python 3",
   "language": "python",
   "name": "python3"
  },
  "language_info": {
   "codemirror_mode": {
    "name": "ipython",
    "version": 3
   },
   "file_extension": ".py",
   "mimetype": "text/x-python",
   "name": "python",
   "nbconvert_exporter": "python",
   "pygments_lexer": "ipython3",
   "version": "3.8.0"
  },
  "orig_nbformat": 4,
  "vscode": {
   "interpreter": {
    "hash": "38af186f9a946f1ea964aabe137ab4f9f2cf4517c8a31e5095f615501d2e973c"
   }
  }
 },
 "nbformat": 4,
 "nbformat_minor": 2
}
