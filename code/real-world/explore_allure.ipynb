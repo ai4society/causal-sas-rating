{
 "cells": [
  {
   "cell_type": "markdown",
   "metadata": {},
   "source": [
    "## ALLURE Chatbot Data"
   ]
  },
  {
   "cell_type": "code",
   "execution_count": 13,
   "metadata": {},
   "outputs": [
    {
     "name": "stderr",
     "output_type": "stream",
     "text": [
      "[nltk_data] Downloading package words to\n",
      "[nltk_data]     /Users/kausiklakkaraju/nltk_data...\n",
      "[nltk_data]   Package words is already up-to-date!\n"
     ]
    }
   ],
   "source": [
    "import pandas as pd\n",
    "import matplotlib.pyplot as plt\n",
    "from nltk.corpus import stopwords\n",
    "import nltk\n",
    "nltk.download(\"words\")\n"
   ]
  },
  {
   "cell_type": "code",
   "execution_count": 14,
   "metadata": {},
   "outputs": [],
   "source": [
    "data = pd.read_csv('../../data/real-world/allure/final/final.csv')"
   ]
  },
  {
   "cell_type": "code",
   "execution_count": 15,
   "metadata": {},
   "outputs": [
    {
     "data": {
      "text/html": [
       "<div>\n",
       "<style scoped>\n",
       "    .dataframe tbody tr th:only-of-type {\n",
       "        vertical-align: middle;\n",
       "    }\n",
       "\n",
       "    .dataframe tbody tr th {\n",
       "        vertical-align: top;\n",
       "    }\n",
       "\n",
       "    .dataframe thead th {\n",
       "        text-align: right;\n",
       "    }\n",
       "</style>\n",
       "<table border=\"1\" class=\"dataframe\">\n",
       "  <thead>\n",
       "    <tr style=\"text-align: right;\">\n",
       "      <th></th>\n",
       "      <th>C_num</th>\n",
       "      <th>UB</th>\n",
       "      <th>User_gender</th>\n",
       "      <th>Text</th>\n",
       "    </tr>\n",
       "  </thead>\n",
       "  <tbody>\n",
       "    <tr>\n",
       "      <th>0</th>\n",
       "      <td>1</td>\n",
       "      <td>0</td>\n",
       "      <td>0</td>\n",
       "      <td>Hello, welcome to ALLURE! I'm Ally and I want ...</td>\n",
       "    </tr>\n",
       "    <tr>\n",
       "      <th>1</th>\n",
       "      <td>1</td>\n",
       "      <td>0</td>\n",
       "      <td>0</td>\n",
       "      <td>Today we'll learn the different moves you need...</td>\n",
       "    </tr>\n",
       "    <tr>\n",
       "      <th>2</th>\n",
       "      <td>1</td>\n",
       "      <td>0</td>\n",
       "      <td>0</td>\n",
       "      <td>Would you like to hear more about the white c...</td>\n",
       "    </tr>\n",
       "    <tr>\n",
       "      <th>3</th>\n",
       "      <td>1</td>\n",
       "      <td>1</td>\n",
       "      <td>0</td>\n",
       "      <td>Level 1</td>\n",
       "    </tr>\n",
       "    <tr>\n",
       "      <th>4</th>\n",
       "      <td>1</td>\n",
       "      <td>0</td>\n",
       "      <td>0</td>\n",
       "      <td>Level: 1</td>\n",
       "    </tr>\n",
       "  </tbody>\n",
       "</table>\n",
       "</div>"
      ],
      "text/plain": [
       "   C_num  UB  User_gender                                               Text\n",
       "0      1   0            0  Hello, welcome to ALLURE! I'm Ally and I want ...\n",
       "1      1   0            0  Today we'll learn the different moves you need...\n",
       "2      1   0            0   Would you like to hear more about the white c...\n",
       "3      1   1            0                                            Level 1\n",
       "4      1   0            0                                           Level: 1"
      ]
     },
     "execution_count": 15,
     "metadata": {},
     "output_type": "execute_result"
    }
   ],
   "source": [
    "data.head()"
   ]
  },
  {
   "cell_type": "code",
   "execution_count": 16,
   "metadata": {},
   "outputs": [
    {
     "name": "stdout",
     "output_type": "stream",
     "text": [
      "C_num denotes conversation number.\n",
      "C_num\n",
      "1     18\n",
      "2     21\n",
      "3     30\n",
      "4     49\n",
      "5     71\n",
      "6     22\n",
      "7     41\n",
      "8     33\n",
      "9     37\n",
      "10    29\n",
      "11    22\n",
      "12    27\n",
      "13    20\n",
      "14     5\n",
      "15    27\n",
      "16    30\n",
      "17    28\n",
      "18    33\n",
      "Name: UB, dtype: int64\n",
      "The average number of turns are: \n",
      "30.17\n"
     ]
    }
   ],
   "source": [
    "# Each turn is a series of user-chatbot utterances.\n",
    "data_groups = data.groupby('C_num')\n",
    "\n",
    "# Calculate the difference between consecutive rows. If it is 1, calculate the number of times this difference is 1.\n",
    "num_dialogues = data_groups['UB'].apply(lambda x: (x.diff() == 1).sum())\n",
    "avg_dialogues = data_groups['UB'].apply(lambda x: (x.diff() == 1).sum()).mean()\n",
    "\n",
    "print(\"C_num denotes conversation number.\")\n",
    "print(num_dialogues)\n",
    "\n",
    "print(\"The average number of turns are: \")\n",
    "print(round(avg_dialogues,2))"
   ]
  },
  {
   "cell_type": "code",
   "execution_count": 17,
   "metadata": {},
   "outputs": [
    {
     "data": {
      "image/png": "[encoded data removed]",
      "text/plain": [
       "<Figure size 432x288 with 1 Axes>"
      ]
     },
     "metadata": {
      "needs_background": "light"
     },
     "output_type": "display_data"
    }
   ],
   "source": [
    "# Draw a graph\n",
    "num_dialogues.plot(kind='bar')\n",
    "plt.xlabel('Conversation number')\n",
    "plt.ylabel('Number of turns')\n",
    "plt.title('Number of turns in each conversation')\n",
    "plt.show()"
   ]
  },
  {
   "cell_type": "code",
   "execution_count": 18,
   "metadata": {},
   "outputs": [
    {
     "name": "stdout",
     "output_type": "stream",
     "text": [
      "C_num denotes conversation number.\n",
      "Number of bot utterances in each conversation: \n",
      "C_num\n",
      "1      75\n",
      "2      88\n",
      "3     120\n",
      "4     188\n",
      "5     277\n",
      "6      90\n",
      "7     169\n",
      "8     120\n",
      "9     153\n",
      "10    115\n",
      "11     89\n",
      "12    102\n",
      "13     83\n",
      "14     16\n",
      "15    115\n",
      "16     98\n",
      "17    107\n",
      "18    109\n",
      "Name: UB, dtype: int64\n",
      "Average number of bot utterances are: \n",
      "117.44\n"
     ]
    }
   ],
   "source": [
    "data_groups = data.groupby('C_num')\n",
    "bot_utterances = data_groups['UB'].apply(lambda x: (x == 0).sum())\n",
    "bot_utterances_avg = data_groups['UB'].apply(lambda x: (x == 0).sum()).mean()\n",
    "user_utterances = data_groups['UB'].apply(lambda x: (x == 1).sum())\n",
    "user_utterances_avg = data_groups['UB'].apply(lambda x: (x == 1).sum()).mean()\n",
    "\n",
    "\n",
    "print(\"C_num denotes conversation number.\")\n",
    "print(\"Number of bot utterances in each conversation: \")\n",
    "print(bot_utterances)\n",
    "print(\"Average number of bot utterances are: \")\n",
    "print(round(bot_utterances_avg,2))\n"
   ]
  },
  {
   "cell_type": "code",
   "execution_count": 19,
   "metadata": {},
   "outputs": [
    {
     "data": {
      "image/png": "[encoded data removed]",
      "text/plain": [
       "<Figure size 432x288 with 1 Axes>"
      ]
     },
     "metadata": {
      "needs_background": "light"
     },
     "output_type": "display_data"
    }
   ],
   "source": [
    "bot_utterances.plot(kind='bar')\n",
    "plt.xlabel('Conversation number')\n",
    "plt.ylabel('Number of bot utterances')\n",
    "plt.title('Number of bot utterances in each conversation')\n",
    "plt.show()"
   ]
  },
  {
   "cell_type": "code",
   "execution_count": 20,
   "metadata": {},
   "outputs": [
    {
     "name": "stdout",
     "output_type": "stream",
     "text": [
      "Number of user utterances in each conversation: \n",
      "C_num\n",
      "1     18\n",
      "2     23\n",
      "3     32\n",
      "4     83\n",
      "5     83\n",
      "6     22\n",
      "7     42\n",
      "8     36\n",
      "9     43\n",
      "10    38\n",
      "11    22\n",
      "12    27\n",
      "13    20\n",
      "14     7\n",
      "15    27\n",
      "16    35\n",
      "17    29\n",
      "18    39\n",
      "Name: UB, dtype: int64\n",
      "Average number of user utterances are: \n",
      "34.78\n"
     ]
    }
   ],
   "source": [
    "print(\"Number of user utterances in each conversation: \")\n",
    "print(user_utterances)\n",
    "print(\"Average number of user utterances are: \")\n",
    "print(round(user_utterances_avg,2))"
   ]
  },
  {
   "cell_type": "code",
   "execution_count": 21,
   "metadata": {},
   "outputs": [
    {
     "data": {
      "image/png": "[encoded data removed]",
      "text/plain": [
       "<Figure size 432x288 with 1 Axes>"
      ]
     },
     "metadata": {
      "needs_background": "light"
     },
     "output_type": "display_data"
    }
   ],
   "source": [
    "user_utterances.plot(kind='bar')\n",
    "plt.xlabel('Conversation number')\n",
    "plt.ylabel('Number of user utterances')\n",
    "plt.title('Number of user utterances in each conversation')\n",
    "plt.show()"
   ]
  },
  {
   "cell_type": "code",
   "execution_count": 22,
   "metadata": {},
   "outputs": [],
   "source": [
    "data0 = data[data['UB'] == 0]\n",
    "data1 = data[data['UB'] == 1]"
   ]
  },
  {
   "cell_type": "code",
   "execution_count": 23,
   "metadata": {},
   "outputs": [],
   "source": [
    "stop_words = set(stopwords.words('english'))\n",
    "\n",
    "def count_stop_words(text):\n",
    "    tokens = nltk.word_tokenize(str(text).lower())\n",
    "    sw_count = sum([1 for token in tokens if token in stop_words])\n",
    "\n",
    "    return sw_count"
   ]
  },
  {
   "cell_type": "code",
   "execution_count": 24,
   "metadata": {},
   "outputs": [
    {
     "name": "stdout",
     "output_type": "stream",
     "text": [
      "Average number of stopwords used by the chatbot: \n",
      "5.581362346263009\n",
      "Average number of stopwords used by the user: \n",
      "0.01437699680511182\n"
     ]
    }
   ],
   "source": [
    "print(\"Average number of stopwords used by the chatbot: \")\n",
    "print(data0['Text'].apply(count_stop_words).mean())\n",
    "print(\"Average number of stopwords used by the user: \")\n",
    "print(data1['Text'].apply(count_stop_words).mean())"
   ]
  },
  {
   "cell_type": "code",
   "execution_count": 25,
   "metadata": {},
   "outputs": [],
   "source": [
    "def count_words(text):\n",
    "    return len(str(text).split())"
   ]
  },
  {
   "cell_type": "code",
   "execution_count": 26,
   "metadata": {},
   "outputs": [
    {
     "name": "stdout",
     "output_type": "stream",
     "text": [
      "Average number of words in each utterance of the chatbot: \n",
      "12.793755912961212\n",
      "Average number of words in each utterance of the user: \n",
      "3.515974440894569\n"
     ]
    }
   ],
   "source": [
    "print(\"Average number of words in each utterance of the chatbot: \")\n",
    "print(data0['Text'].apply(count_words).mean())\n",
    "print(\"Average number of words in each utterance of the user: \")\n",
    "print(data1['Text'].apply(count_words).mean())"
   ]
  },
  {
   "cell_type": "code",
   "execution_count": 41,
   "metadata": {},
   "outputs": [
    {
     "name": "stdout",
     "output_type": "stream",
     "text": [
      "C_num denotes conversation number.\n",
      "Number of male utterances in each conversation: \n",
      "C_num\n",
      "1       0\n",
      "2     111\n",
      "3       0\n",
      "4     271\n",
      "5       0\n",
      "6     112\n",
      "7       0\n",
      "8     156\n",
      "9     196\n",
      "10    153\n",
      "11      0\n",
      "12      0\n",
      "13      0\n",
      "14      0\n",
      "15      0\n",
      "16    133\n",
      "17    136\n",
      "18    148\n",
      "Name: User_gender, dtype: int64\n",
      "Average number of male utterances are: \n",
      "157.33\n"
     ]
    }
   ],
   "source": [
    "## Number of average utterances\n",
    "data_groups = data.groupby('C_num')\n",
    "male_utterances = data_groups['User_gender'].apply(lambda x: (x == 1).sum())\n",
    "male_utterances_avg = data_groups['User_gender'].apply(lambda x: (x == 1).sum()).sum() / 9\n",
    "female_utterances = data_groups['User_gender'].apply(lambda x: (x == 2).sum())\n",
    "female_utterances_avg = data_groups['User_gender'].apply(lambda x: (x == 2).sum()).sum() / 8\n",
    "na_utterances = data_groups['User_gender'].apply(lambda x: (x == 0).sum())\n",
    "na_utterances_avg = data_groups['User_gender'].apply(lambda x: (x == 0).sum()).sum() / 1\n",
    "\n",
    "print(\"C_num denotes conversation number.\")\n",
    "\n",
    "print(\"Number of male utterances in each conversation: \")\n",
    "print(male_utterances)\n",
    "print(\"Average number of male utterances are: \")\n",
    "print(round(male_utterances_avg,2))"
   ]
  },
  {
   "cell_type": "code",
   "execution_count": 42,
   "metadata": {},
   "outputs": [
    {
     "name": "stdout",
     "output_type": "stream",
     "text": [
      "Number of female utterances in each conversation: \n",
      "C_num\n",
      "1       0\n",
      "2       0\n",
      "3     152\n",
      "4       0\n",
      "5     360\n",
      "6       0\n",
      "7     211\n",
      "8       0\n",
      "9       0\n",
      "10      0\n",
      "11    111\n",
      "12    129\n",
      "13    103\n",
      "14     23\n",
      "15    142\n",
      "16      0\n",
      "17      0\n",
      "18      0\n",
      "Name: User_gender, dtype: int64\n",
      "Average number of female utterances are: \n",
      "153.88\n"
     ]
    }
   ],
   "source": [
    "print(\"Number of female utterances in each conversation: \")\n",
    "print(female_utterances)\n",
    "print(\"Average number of female utterances are: \")\n",
    "print(round(female_utterances_avg,2))"
   ]
  },
  {
   "cell_type": "code",
   "execution_count": 43,
   "metadata": {},
   "outputs": [
    {
     "name": "stdout",
     "output_type": "stream",
     "text": [
      "Number of NA utterances in each conversation: \n",
      "C_num\n",
      "1     93\n",
      "2      0\n",
      "3      0\n",
      "4      0\n",
      "5      0\n",
      "6      0\n",
      "7      0\n",
      "8      0\n",
      "9      0\n",
      "10     0\n",
      "11     0\n",
      "12     0\n",
      "13     0\n",
      "14     0\n",
      "15     0\n",
      "16     0\n",
      "17     0\n",
      "18     0\n",
      "Name: User_gender, dtype: int64\n",
      "Average number of NA utterances are: \n",
      "93.0\n"
     ]
    }
   ],
   "source": [
    "print(\"Number of NA utterances in each conversation: \")\n",
    "print(na_utterances)\n",
    "print(\"Average number of NA utterances are: \")\n",
    "print(round(na_utterances_avg,2))"
   ]
  },
  {
   "cell_type": "code",
   "execution_count": 44,
   "metadata": {},
   "outputs": [],
   "source": [
    "data0 = data[data['User_gender'] == 0]\n",
    "data1 = data[data['User_gender'] == 1]\n",
    "data2 = data[data['User_gender'] == 2]"
   ]
  },
  {
   "cell_type": "code",
   "execution_count": 45,
   "metadata": {},
   "outputs": [],
   "source": [
    "stop_words = set(stopwords.words('english'))\n",
    "\n",
    "def count_stop_words(text):\n",
    "    tokens = nltk.word_tokenize(str(text).lower())\n",
    "    sw_count = sum([1 for token in tokens if token in stop_words])\n",
    "\n",
    "    return sw_count"
   ]
  },
  {
   "cell_type": "code",
   "execution_count": 46,
   "metadata": {},
   "outputs": [
    {
     "name": "stdout",
     "output_type": "stream",
     "text": [
      "Average number of stopwords used by NA users: \n",
      "4.236559139784946\n",
      "Average number of stopwords used by male users: \n",
      "4.237288135593221\n",
      "Average number of stopwords used by female users: \n",
      "4.3980503655564585\n"
     ]
    }
   ],
   "source": [
    "print(\"Average number of stopwords used by NA users: \")\n",
    "print(data0['Text'].apply(count_stop_words).mean())\n",
    "print(\"Average number of stopwords used by male users: \")\n",
    "print(data1['Text'].apply(count_stop_words).mean())\n",
    "print(\"Average number of stopwords used by female users: \")\n",
    "print(data2['Text'].apply(count_stop_words).mean())"
   ]
  },
  {
   "cell_type": "code",
   "execution_count": 47,
   "metadata": {},
   "outputs": [],
   "source": [
    "def count_words(text):\n",
    "    return len(str(text).split())"
   ]
  },
  {
   "cell_type": "code",
   "execution_count": 51,
   "metadata": {},
   "outputs": [
    {
     "name": "stdout",
     "output_type": "stream",
     "text": [
      "Average number of words used by NA users: \n",
      "10.096774193548388\n",
      "Average number of words used by male users: \n",
      "10.584039548022599\n",
      "Average number of words used by female users: \n",
      "10.821283509341999\n"
     ]
    }
   ],
   "source": [
    "print(\"Average number of words used by NA users: \")\n",
    "print(data0['Text'].apply(count_words).mean())\n",
    "print(\"Average number of words used by male users: \")\n",
    "print(data1['Text'].apply(count_words).mean())\n",
    "print(\"Average number of words used by female users: \")\n",
    "print(data2['Text'].apply(count_words).mean())"
   ]
  }
 ],
 "metadata": {
  "kernelspec": {
   "display_name": "Python 3",
   "language": "python",
   "name": "python3"
  },
  "language_info": {
   "codemirror_mode": {
    "name": "ipython",
    "version": 3
   },
   "file_extension": ".py",
   "mimetype": "text/x-python",
   "name": "python",
   "nbconvert_exporter": "python",
   "pygments_lexer": "ipython3",
   "version": "3.8.0"
  },
  "orig_nbformat": 4,
  "vscode": {
   "interpreter": {
    "hash": "38af186f9a946f1ea964aabe137ab4f9f2cf4517c8a31e5095f615501d2e973c"
   }
  }
 },
 "nbformat": 4,
 "nbformat_minor": 2
}
