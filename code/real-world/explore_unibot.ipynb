{
 "cells": [
  {
   "attachments": {},
   "cell_type": "markdown",
   "metadata": {},
   "source": [
    "## Unibot Chatbot Data"
   ]
  },
  {
   "cell_type": "code",
   "execution_count": 1,
   "metadata": {},
   "outputs": [
    {
     "name": "stderr",
     "output_type": "stream",
     "text": [
      "[nltk_data] Downloading package words to\n",
      "[nltk_data]     /Users/kausiklakkaraju/nltk_data...\n",
      "[nltk_data]   Package words is already up-to-date!\n"
     ]
    },
    {
     "data": {
      "text/plain": [
       "True"
      ]
     },
     "execution_count": 1,
     "metadata": {},
     "output_type": "execute_result"
    }
   ],
   "source": [
    "import pandas as pd\n",
    "import matplotlib.pyplot as plt\n",
    "from nltk.corpus import stopwords\n",
    "import nltk\n",
    "nltk.download(\"words\")\n"
   ]
  },
  {
   "cell_type": "code",
   "execution_count": 2,
   "metadata": {},
   "outputs": [],
   "source": [
    "data = pd.read_csv('../../data/real-world/unibot/final/final.csv')"
   ]
  },
  {
   "cell_type": "code",
   "execution_count": 3,
   "metadata": {},
   "outputs": [
    {
     "data": {
      "text/html": [
       "<div>\n",
       "<style scoped>\n",
       "    .dataframe tbody tr th:only-of-type {\n",
       "        vertical-align: middle;\n",
       "    }\n",
       "\n",
       "    .dataframe tbody tr th {\n",
       "        vertical-align: top;\n",
       "    }\n",
       "\n",
       "    .dataframe thead th {\n",
       "        text-align: right;\n",
       "    }\n",
       "</style>\n",
       "<table border=\"1\" class=\"dataframe\">\n",
       "  <thead>\n",
       "    <tr style=\"text-align: right;\">\n",
       "      <th></th>\n",
       "      <th>C_num</th>\n",
       "      <th>UB</th>\n",
       "      <th>User_gender</th>\n",
       "      <th>Text</th>\n",
       "    </tr>\n",
       "  </thead>\n",
       "  <tbody>\n",
       "    <tr>\n",
       "      <th>0</th>\n",
       "      <td>1</td>\n",
       "      <td>1</td>\n",
       "      <td>0</td>\n",
       "      <td>Hey, Hi</td>\n",
       "    </tr>\n",
       "    <tr>\n",
       "      <th>1</th>\n",
       "      <td>1</td>\n",
       "      <td>0</td>\n",
       "      <td>0</td>\n",
       "      <td>Hey! Welcome to the website of University of S...</td>\n",
       "    </tr>\n",
       "    <tr>\n",
       "      <th>2</th>\n",
       "      <td>1</td>\n",
       "      <td>1</td>\n",
       "      <td>0</td>\n",
       "      <td>Hey, student living</td>\n",
       "    </tr>\n",
       "    <tr>\n",
       "      <th>3</th>\n",
       "      <td>1</td>\n",
       "      <td>0</td>\n",
       "      <td>0</td>\n",
       "      <td>Please refer to the FAQ here for answer - http...</td>\n",
       "    </tr>\n",
       "    <tr>\n",
       "      <th>4</th>\n",
       "      <td>1</td>\n",
       "      <td>0</td>\n",
       "      <td>0</td>\n",
       "      <td>Was this helpful?</td>\n",
       "    </tr>\n",
       "  </tbody>\n",
       "</table>\n",
       "</div>"
      ],
      "text/plain": [
       "   C_num  UB  User_gender                                               Text\n",
       "0      1   1            0                                            Hey, Hi\n",
       "1      1   0            0  Hey! Welcome to the website of University of S...\n",
       "2      1   1            0                                Hey, student living\n",
       "3      1   0            0  Please refer to the FAQ here for answer - http...\n",
       "4      1   0            0                                  Was this helpful?"
      ]
     },
     "execution_count": 3,
     "metadata": {},
     "output_type": "execute_result"
    }
   ],
   "source": [
    "data.head()"
   ]
  },
  {
   "cell_type": "code",
   "execution_count": 5,
   "metadata": {},
   "outputs": [
    {
     "name": "stdout",
     "output_type": "stream",
     "text": [
      "C_num denotes conversation number.\n",
      "C_num\n",
      "1     18\n",
      "2     22\n",
      "3     18\n",
      "4     22\n",
      "5     18\n",
      "6     16\n",
      "7     17\n",
      "8     29\n",
      "9     22\n",
      "10    18\n",
      "11    16\n",
      "12     9\n",
      "13    17\n",
      "14     6\n",
      "15     9\n",
      "16    31\n",
      "17    11\n",
      "18     6\n",
      "19    24\n",
      "20    27\n",
      "21    21\n",
      "22     3\n",
      "23    24\n",
      "24    21\n",
      "25    50\n",
      "26    31\n",
      "27    16\n",
      "28    24\n",
      "29    23\n",
      "30    18\n",
      "31    28\n",
      "Name: UB, dtype: int64\n",
      "The average number of turns are: \n",
      "19.84\n"
     ]
    }
   ],
   "source": [
    "# Each turn is a series of user-chatbot utterances.\n",
    "data_groups = data.groupby('C_num')\n",
    "\n",
    "# Calculate the difference between consecutive rows. If it is 1, calculate the number of times this difference is 1.\n",
    "num_turns = data_groups['UB'].apply(lambda x: (x.diff() == 1).sum())\n",
    "avg_turns = data_groups['UB'].apply(lambda x: (x.diff() == 1).sum()).mean()\n",
    "\n",
    "print(\"C_num denotes conversation number.\")\n",
    "print(num_turns)\n",
    "\n",
    "print(\"The average number of turns are: \")\n",
    "print(round(avg_turns,2))"
   ]
  },
  {
   "cell_type": "code",
   "execution_count": 6,
   "metadata": {},
   "outputs": [
    {
     "data": {
      "image/png": "[encoded data removed]",
      "text/plain": [
       "<Figure size 432x288 with 1 Axes>"
      ]
     },
     "metadata": {
      "needs_background": "light"
     },
     "output_type": "display_data"
    }
   ],
   "source": [
    "# Draw a graph\n",
    "num_turns.plot(kind='bar')\n",
    "plt.xlabel('Conversation number')\n",
    "plt.ylabel('Number of turns')\n",
    "plt.title('Number of turns in each conversation')\n",
    "plt.show()"
   ]
  },
  {
   "cell_type": "code",
   "execution_count": 7,
   "metadata": {},
   "outputs": [
    {
     "name": "stdout",
     "output_type": "stream",
     "text": [
      "C_num denotes conversation number.\n",
      "Number of bot utterances in each conversation: \n",
      "C_num\n",
      "1     23\n",
      "2     29\n",
      "3     23\n",
      "4     29\n",
      "5     24\n",
      "6     19\n",
      "7     20\n",
      "8     36\n",
      "9     29\n",
      "10    24\n",
      "11    20\n",
      "12    13\n",
      "13    21\n",
      "14     8\n",
      "15    12\n",
      "16    41\n",
      "17    15\n",
      "18     7\n",
      "19    30\n",
      "20    35\n",
      "21    27\n",
      "22     4\n",
      "23    30\n",
      "24    27\n",
      "25    66\n",
      "26    39\n",
      "27    21\n",
      "28    32\n",
      "29    32\n",
      "30    22\n",
      "31    39\n",
      "Name: UB, dtype: int64\n",
      "Average number of bot utterances are: \n",
      "25.71\n"
     ]
    }
   ],
   "source": [
    "data_groups = data.groupby('C_num')\n",
    "bot_utterances = data_groups['UB'].apply(lambda x: (x == 0).sum())\n",
    "bot_utterances_avg = data_groups['UB'].apply(lambda x: (x == 0).sum()).mean()\n",
    "user_utterances = data_groups['UB'].apply(lambda x: (x == 1).sum())\n",
    "user_utterances_avg = data_groups['UB'].apply(lambda x: (x == 1).sum()).mean()\n",
    "\n",
    "\n",
    "print(\"C_num denotes conversation number.\")\n",
    "print(\"Number of bot utterances in each conversation: \")\n",
    "print(bot_utterances)\n",
    "print(\"Average number of bot utterances are: \")\n",
    "print(round(bot_utterances_avg,2))\n"
   ]
  },
  {
   "cell_type": "code",
   "execution_count": 8,
   "metadata": {},
   "outputs": [
    {
     "data": {
      "image/png": "[encoded data removed]",
      "text/plain": [
       "<Figure size 432x288 with 1 Axes>"
      ]
     },
     "metadata": {
      "needs_background": "light"
     },
     "output_type": "display_data"
    }
   ],
   "source": [
    "bot_utterances.plot(kind='bar')\n",
    "plt.xlabel('Conversation number')\n",
    "plt.ylabel('Number of bot utterances')\n",
    "plt.title('Number of bot utterances in each conversation')\n",
    "plt.show()"
   ]
  },
  {
   "cell_type": "code",
   "execution_count": 9,
   "metadata": {},
   "outputs": [
    {
     "name": "stdout",
     "output_type": "stream",
     "text": [
      "Number of user utterances in each conversation: \n",
      "C_num\n",
      "1     19\n",
      "2     23\n",
      "3     19\n",
      "4     23\n",
      "5     19\n",
      "6     20\n",
      "7     23\n",
      "8     32\n",
      "9     23\n",
      "10    19\n",
      "11    18\n",
      "12    10\n",
      "13    18\n",
      "14     7\n",
      "15    12\n",
      "16    32\n",
      "17    12\n",
      "18     7\n",
      "19    25\n",
      "20    28\n",
      "21    21\n",
      "22     4\n",
      "23    25\n",
      "24    21\n",
      "25    51\n",
      "26    34\n",
      "27    20\n",
      "28    25\n",
      "29    26\n",
      "30    21\n",
      "31    30\n",
      "Name: UB, dtype: int64\n",
      "Average number of user utterances are: \n",
      "21.52\n"
     ]
    }
   ],
   "source": [
    "print(\"Number of user utterances in each conversation: \")\n",
    "print(user_utterances)\n",
    "print(\"Average number of user utterances are: \")\n",
    "print(round(user_utterances_avg,2))"
   ]
  },
  {
   "cell_type": "code",
   "execution_count": 10,
   "metadata": {},
   "outputs": [
    {
     "data": {
      "image/png": "[encoded data removed]",
      "text/plain": [
       "<Figure size 432x288 with 1 Axes>"
      ]
     },
     "metadata": {
      "needs_background": "light"
     },
     "output_type": "display_data"
    }
   ],
   "source": [
    "user_utterances.plot(kind='bar')\n",
    "plt.xlabel('Conversation number')\n",
    "plt.ylabel('Number of user utterances')\n",
    "plt.title('Number of user utterances in each conversation')\n",
    "plt.show()"
   ]
  },
  {
   "cell_type": "code",
   "execution_count": 11,
   "metadata": {},
   "outputs": [],
   "source": [
    "data0 = data[data['UB'] == 0]\n",
    "data1 = data[data['UB'] == 1]"
   ]
  },
  {
   "cell_type": "code",
   "execution_count": 12,
   "metadata": {},
   "outputs": [],
   "source": [
    "stop_words = set(stopwords.words('english'))\n",
    "\n",
    "def count_stop_words(text):\n",
    "    tokens = nltk.word_tokenize(str(text).lower())\n",
    "    sw_count = sum([1 for token in tokens if token in stop_words])\n",
    "\n",
    "    return sw_count"
   ]
  },
  {
   "cell_type": "code",
   "execution_count": 13,
   "metadata": {},
   "outputs": [
    {
     "name": "stdout",
     "output_type": "stream",
     "text": [
      "Average number of stopwords used by the chatbot: \n",
      "3.9786700125470515\n",
      "Average number of stopwords used by the user: \n",
      "2.0914542728635683\n"
     ]
    }
   ],
   "source": [
    "print(\"Average number of stopwords used by the chatbot: \")\n",
    "print(data0['Text'].apply(count_stop_words).mean())\n",
    "print(\"Average number of stopwords used by the user: \")\n",
    "print(data1['Text'].apply(count_stop_words).mean())"
   ]
  },
  {
   "cell_type": "code",
   "execution_count": 14,
   "metadata": {},
   "outputs": [],
   "source": [
    "def count_words(text):\n",
    "    return len(str(text).split())"
   ]
  },
  {
   "cell_type": "code",
   "execution_count": 15,
   "metadata": {},
   "outputs": [
    {
     "name": "stdout",
     "output_type": "stream",
     "text": [
      "Average number of words in each utterance of the chatbot: \n",
      "8.616060225846926\n",
      "Average number of words in each utterance of the user: \n",
      "6.760119940029985\n"
     ]
    }
   ],
   "source": [
    "print(\"Average number of words in each utterance of the chatbot: \")\n",
    "print(data0['Text'].apply(count_words).mean())\n",
    "print(\"Average number of words in each utterance of the user: \")\n",
    "print(data1['Text'].apply(count_words).mean())"
   ]
  },
  {
   "cell_type": "code",
   "execution_count": 18,
   "metadata": {},
   "outputs": [
    {
     "name": "stdout",
     "output_type": "stream",
     "text": [
      "C_num denotes conversation number.\n",
      "Number of male utterances in each conversation: \n",
      "C_num\n",
      "1      0\n",
      "2      0\n",
      "3      0\n",
      "4      0\n",
      "5      0\n",
      "6      0\n",
      "7      0\n",
      "8      0\n",
      "9      0\n",
      "10     0\n",
      "11     0\n",
      "12    23\n",
      "13    39\n",
      "14    15\n",
      "15    24\n",
      "16    73\n",
      "17    27\n",
      "18    14\n",
      "19    55\n",
      "20    63\n",
      "21    48\n",
      "22     0\n",
      "23     0\n",
      "24     0\n",
      "25     0\n",
      "26     0\n",
      "27     0\n",
      "28     0\n",
      "29     0\n",
      "30     0\n",
      "31     0\n",
      "Name: User_gender, dtype: int64\n",
      "Average number of male utterances are: \n",
      "38.1\n"
     ]
    }
   ],
   "source": [
    "## Number of average utterances\n",
    "data_groups = data.groupby('C_num')\n",
    "male_utterances = data_groups['User_gender'].apply(lambda x: (x == 1).sum())\n",
    "male_utterances_avg = data_groups['User_gender'].apply(lambda x: (x == 1).sum()).sum() / 10\n",
    "female_utterances = data_groups['User_gender'].apply(lambda x: (x == 2).sum())\n",
    "female_utterances_avg = data_groups['User_gender'].apply(lambda x: (x == 2).sum()).sum() / 10\n",
    "na_utterances = data_groups['User_gender'].apply(lambda x: (x == 0).sum())\n",
    "na_utterances_avg = data_groups['User_gender'].apply(lambda x: (x == 0).sum()).sum() / 11\n",
    "\n",
    "print(\"C_num denotes conversation number.\")\n",
    "\n",
    "print(\"Number of male utterances in each conversation: \")\n",
    "print(male_utterances)\n",
    "print(\"Average number of male utterances are: \")\n",
    "print(round(male_utterances_avg,2))"
   ]
  },
  {
   "cell_type": "code",
   "execution_count": 19,
   "metadata": {},
   "outputs": [
    {
     "name": "stdout",
     "output_type": "stream",
     "text": [
      "Number of female utterances in each conversation: \n",
      "C_num\n",
      "1       0\n",
      "2       0\n",
      "3       0\n",
      "4       0\n",
      "5       0\n",
      "6       0\n",
      "7       0\n",
      "8       0\n",
      "9       0\n",
      "10      0\n",
      "11      0\n",
      "12      0\n",
      "13      0\n",
      "14      0\n",
      "15      0\n",
      "16      0\n",
      "17      0\n",
      "18      0\n",
      "19      0\n",
      "20      0\n",
      "21      0\n",
      "22      8\n",
      "23     55\n",
      "24     48\n",
      "25    117\n",
      "26     73\n",
      "27     41\n",
      "28     57\n",
      "29     58\n",
      "30     43\n",
      "31     69\n",
      "Name: User_gender, dtype: int64\n",
      "Average number of female utterances are: \n",
      "56.9\n"
     ]
    }
   ],
   "source": [
    "print(\"Number of female utterances in each conversation: \")\n",
    "print(female_utterances)\n",
    "print(\"Average number of female utterances are: \")\n",
    "print(round(female_utterances_avg,2))"
   ]
  },
  {
   "cell_type": "code",
   "execution_count": 20,
   "metadata": {},
   "outputs": [
    {
     "name": "stdout",
     "output_type": "stream",
     "text": [
      "Number of NA utterances in each conversation: \n",
      "C_num\n",
      "1     42\n",
      "2     52\n",
      "3     42\n",
      "4     52\n",
      "5     43\n",
      "6     39\n",
      "7     43\n",
      "8     68\n",
      "9     52\n",
      "10    43\n",
      "11    38\n",
      "12     0\n",
      "13     0\n",
      "14     0\n",
      "15     0\n",
      "16     0\n",
      "17     0\n",
      "18     0\n",
      "19     0\n",
      "20     0\n",
      "21     0\n",
      "22     0\n",
      "23     0\n",
      "24     0\n",
      "25     0\n",
      "26     0\n",
      "27     0\n",
      "28     0\n",
      "29     0\n",
      "30     0\n",
      "31     0\n",
      "Name: User_gender, dtype: int64\n",
      "Average number of NA utterances are: \n",
      "46.73\n"
     ]
    }
   ],
   "source": [
    "print(\"Number of NA utterances in each conversation: \")\n",
    "print(na_utterances)\n",
    "print(\"Average number of NA utterances are: \")\n",
    "print(round(na_utterances_avg,2))"
   ]
  },
  {
   "cell_type": "code",
   "execution_count": 21,
   "metadata": {},
   "outputs": [],
   "source": [
    "data0 = data[data['User_gender'] == 0]\n",
    "data1 = data[data['User_gender'] == 1]\n",
    "data2 = data[data['User_gender'] == 2]"
   ]
  },
  {
   "cell_type": "code",
   "execution_count": 22,
   "metadata": {},
   "outputs": [],
   "source": [
    "stop_words = set(stopwords.words('english'))\n",
    "\n",
    "def count_stop_words(text):\n",
    "    tokens = nltk.word_tokenize(str(text).lower())\n",
    "    sw_count = sum([1 for token in tokens if token in stop_words])\n",
    "\n",
    "    return sw_count"
   ]
  },
  {
   "cell_type": "code",
   "execution_count": 23,
   "metadata": {},
   "outputs": [
    {
     "name": "stdout",
     "output_type": "stream",
     "text": [
      "Average number of stopwords used by NA users: \n",
      "2.8190661478599224\n",
      "Average number of stopwords used by male users: \n",
      "3.1942257217847767\n",
      "Average number of stopwords used by female users: \n",
      "3.3391915641476273\n"
     ]
    }
   ],
   "source": [
    "print(\"Average number of stopwords used by NA users: \")\n",
    "print(data0['Text'].apply(count_stop_words).mean())\n",
    "print(\"Average number of stopwords used by male users: \")\n",
    "print(data1['Text'].apply(count_stop_words).mean())\n",
    "print(\"Average number of stopwords used by female users: \")\n",
    "print(data2['Text'].apply(count_stop_words).mean())"
   ]
  },
  {
   "cell_type": "code",
   "execution_count": 24,
   "metadata": {},
   "outputs": [],
   "source": [
    "def count_words(text):\n",
    "    return len(str(text).split())"
   ]
  },
  {
   "cell_type": "code",
   "execution_count": 25,
   "metadata": {},
   "outputs": [
    {
     "name": "stdout",
     "output_type": "stream",
     "text": [
      "Average number of words used by NA users: \n",
      "6.599221789883268\n",
      "Average number of words used by male users: \n",
      "8.141732283464567\n",
      "Average number of words used by female users: \n",
      "8.579964850615115\n"
     ]
    }
   ],
   "source": [
    "print(\"Average number of words used by NA users: \")\n",
    "print(data0['Text'].apply(count_words).mean())\n",
    "print(\"Average number of words used by male users: \")\n",
    "print(data1['Text'].apply(count_words).mean())\n",
    "print(\"Average number of words used by female users: \")\n",
    "print(data2['Text'].apply(count_words).mean())"
   ]
  }
 ],
 "metadata": {
  "kernelspec": {
   "display_name": "Python 3",
   "language": "python",
   "name": "python3"
  },
  "language_info": {
   "codemirror_mode": {
    "name": "ipython",
    "version": 3
   },
   "file_extension": ".py",
   "mimetype": "text/x-python",
   "name": "python",
   "nbconvert_exporter": "python",
   "pygments_lexer": "ipython3",
   "version": "3.8.0"
  },
  "orig_nbformat": 4,
  "vscode": {
   "interpreter": {
    "hash": "38af186f9a946f1ea964aabe137ab4f9f2cf4517c8a31e5095f615501d2e973c"
   }
  }
 },
 "nbformat": 4,
 "nbformat_minor": 2
}
