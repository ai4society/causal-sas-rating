{
 "cells": [
  {
   "cell_type": "code",
   "execution_count": 2,
   "metadata": {},
   "outputs": [],
   "source": [
    "import pandas as pd\n",
    "from vaderSentiment.vaderSentiment import SentimentIntensityAnalyzer"
   ]
  },
  {
   "cell_type": "code",
   "execution_count": 1,
   "metadata": {},
   "outputs": [],
   "source": [
    "#Function to calculate sentiment scores.\n",
    "def sentiment_rating(sentence):\n",
    "    #Creating sentiment analyzer object.\n",
    "    senti = SentimentIntensityAnalyzer()\n",
    "    #SentimentIntensityAnalyzer() gives a dictionary which has pos,neg,neutral and compound scores.\n",
    "    senti_dict = senti.polarity_scores(sentence)\n",
    "    \n",
    "    return senti_dict\n",
    "    "
   ]
  },
  {
   "cell_type": "code",
   "execution_count": 5,
   "metadata": {},
   "outputs": [
    {
     "data": {
      "text/plain": [
       "{'neg': 0.418, 'neu': 0.582, 'pos': 0.0, 'compound': -0.5563}"
      ]
     },
     "execution_count": 5,
     "metadata": {},
     "output_type": "execute_result"
    }
   ],
   "source": [
    "sentence = \"He is very angry at John\"\n",
    "sentiment_rating(sentence)"
   ]
  },
  {
   "cell_type": "code",
   "execution_count": 6,
   "metadata": {},
   "outputs": [],
   "source": [
    "#Loading EEC dataset\n",
    "eec_data = pd.read_csv(\"../../Equity-Evaluation-Corpus/Equity-Evaluation-Corpus.csv\",engine=\"python\")\n",
    "#Seperating sentence,race and gender into lists.\n",
    "eec = []\n",
    "for each in eec_data['Sentence']:\n",
    "    eec.append(each)\n",
    "race = []\n",
    "for each in eec_data['Race']:\n",
    "    race.append(each)\n",
    "gender = []\n",
    "for each in eec_data['Gender']:\n",
    "    gender.append(each)"
   ]
  },
  {
   "cell_type": "code",
   "execution_count": 7,
   "metadata": {},
   "outputs": [],
   "source": [
    "sentiment = []\n",
    "for each in eec:\n",
    "    sentiment.append(sentiment_rating(each)['compound'])"
   ]
  },
  {
   "cell_type": "code",
   "execution_count": 8,
   "metadata": {},
   "outputs": [
    {
     "name": "stdout",
     "output_type": "stream",
     "text": [
      "                                         Sentence  Sentiment  \\\n",
      "0                             Alonzo feels angry.    -0.5106   \n",
      "1                           Alonzo feels furious.    -0.5719   \n",
      "2                         Alonzo feels irritated.    -0.4588   \n",
      "3                           Alonzo feels enraged.    -0.4019   \n",
      "4                           Alonzo feels annoyed.    -0.3818   \n",
      "...                                           ...        ...   \n",
      "8635      The conversation with my mom was funny.     0.4404   \n",
      "8636  The conversation with my mom was hilarious.     0.4019   \n",
      "8637    The conversation with my mom was amazing.     0.5859   \n",
      "8638  The conversation with my mom was wonderful.     0.5719   \n",
      "8639      The conversation with my mom was great.     0.6249   \n",
      "\n",
      "                  Race  Gender  \n",
      "0     African-American    male  \n",
      "1     African-American    male  \n",
      "2     African-American    male  \n",
      "3     African-American    male  \n",
      "4     African-American    male  \n",
      "...                ...     ...  \n",
      "8635               NaN  female  \n",
      "8636               NaN  female  \n",
      "8637               NaN  female  \n",
      "8638               NaN  female  \n",
      "8639               NaN  female  \n",
      "\n",
      "[8640 rows x 4 columns]\n"
     ]
    }
   ],
   "source": [
    "d = {'Sentence':eec,'Sentiment':sentiment,'Race':race, 'Gender':gender}\n",
    "final_df = pd.DataFrame(d, columns=['Sentence','Sentiment','Race','Gender'])\n",
    "print(final_df)"
   ]
  },
  {
   "cell_type": "code",
   "execution_count": 9,
   "metadata": {},
   "outputs": [],
   "source": [
    "final_df.to_csv('VaderEEC.csv')"
   ]
  }
 ],
 "metadata": {
  "kernelspec": {
   "display_name": "Python 3",
   "language": "python",
   "name": "python3"
  },
  "language_info": {
   "codemirror_mode": {
    "name": "ipython",
    "version": 3
   },
   "file_extension": ".py",
   "mimetype": "text/x-python",
   "name": "python",
   "nbconvert_exporter": "python",
   "pygments_lexer": "ipython3",
   "version": "3.7.7"
  }
 },
 "nbformat": 4,
 "nbformat_minor": 4
}
