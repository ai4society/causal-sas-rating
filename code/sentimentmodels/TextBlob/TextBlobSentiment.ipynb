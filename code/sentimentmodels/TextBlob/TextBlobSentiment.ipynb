{
 "cells": [
  {
   "cell_type": "code",
   "execution_count": 2,
   "metadata": {},
   "outputs": [],
   "source": [
    "from textblob import TextBlob\n",
    "import nltk\n",
    "import pandas as pd"
   ]
  },
  {
   "cell_type": "code",
   "execution_count": 19,
   "metadata": {},
   "outputs": [
    {
     "name": "stdout",
     "output_type": "stream",
     "text": [
      "Sentiment(polarity=-0.15000000000000002, subjectivity=0.75)\n"
     ]
    }
   ],
   "source": [
    "#Polarity is within range [-1.0 , 1.0]. -1 is very negative, 0 is neutral and +1 is very positive sentiment.\n",
    "#Subjectivity is within range [0.0,1.0]. 0.0 is very objective(factual) and 1.0 is very subjective(like public opinion).\n",
    "\n",
    "\n",
    "sentence = TextBlob(\"I hate monday but I love California\")\n",
    "print(sentence.sentiment)\n"
   ]
  },
  {
   "cell_type": "markdown",
   "metadata": {},
   "source": [
    "FOR 50 MALE - 50 FEMALE DATASET,"
   ]
  },
  {
   "cell_type": "code",
   "execution_count": 6,
   "metadata": {},
   "outputs": [
    {
     "data": {
      "text/plain": [
       "0         The situation makes him feel angry.\n",
       "1     The situation makes him feel depressed.\n",
       "2                   he made me feel ecstatic.\n",
       "3                      I made him feel angry.\n",
       "4                    I made him feel fearful.\n",
       "                       ...                   \n",
       "95                       she feels hilarious.\n",
       "96         The situation makes her feel glad.\n",
       "97       The situation makes her feel gloomy.\n",
       "98          The situation makes her feel sad.\n",
       "99                         she feels anxious.\n",
       "Name: Sentences, Length: 100, dtype: object"
      ]
     },
     "execution_count": 6,
     "metadata": {},
     "output_type": "execute_result"
    }
   ],
   "source": [
    "unbiased = pd.read_csv(\"../../../data/unbiased_gender.csv\",engine=\"python\")"
   ]
  },
  {
   "cell_type": "code",
   "execution_count": 7,
   "metadata": {},
   "outputs": [],
   "source": [
    "unb = []\n",
    "for each in unbiased['Sentences']:\n",
    "    unb.append(TextBlob(each))"
   ]
  },
  {
   "cell_type": "code",
   "execution_count": 9,
   "metadata": {},
   "outputs": [],
   "source": [
    "sentiment = []\n",
    "for each in unb:\n",
    "    sentiment.append(each.sentiment[0])\n",
    "subjectivity = []\n",
    "for each in unb:\n",
    "    subjectivity.append(each.sentiment[1])\n",
    "text = []\n",
    "for each in unbiased['Sentences']:\n",
    "    text.append(each)"
   ]
  },
  {
   "cell_type": "code",
   "execution_count": 10,
   "metadata": {},
   "outputs": [
    {
     "name": "stdout",
     "output_type": "stream",
     "text": [
      "                                   Sentence  Sentiment  Subjectivity\n",
      "0       The situation makes him feel angry.      -0.50           1.0\n",
      "1   The situation makes him feel depressed.       0.00           0.0\n",
      "2                 he made me feel ecstatic.       0.00           0.0\n",
      "3                    I made him feel angry.      -0.50           1.0\n",
      "4                  I made him feel fearful.      -0.90           1.0\n",
      "..                                      ...        ...           ...\n",
      "95                     she feels hilarious.       0.50           1.0\n",
      "96       The situation makes her feel glad.       0.50           1.0\n",
      "97     The situation makes her feel gloomy.       0.00           0.0\n",
      "98        The situation makes her feel sad.      -0.50           1.0\n",
      "99                       she feels anxious.      -0.25           1.0\n",
      "\n",
      "[100 rows x 3 columns]\n"
     ]
    }
   ],
   "source": [
    "d = {'Sentence':text,'Sentiment':sentiment,'Subjectivity':subjectivity}\n",
    "final_df = pd.DataFrame(d, columns=['Sentence','Sentiment','Subjectivity'])\n",
    "print(final_df)"
   ]
  },
  {
   "cell_type": "code",
   "execution_count": 11,
   "metadata": {},
   "outputs": [],
   "source": [
    "final_df.to_csv('TextBlobUnbiased.csv')"
   ]
  },
  {
   "cell_type": "markdown",
   "metadata": {},
   "source": [
    "FOR 90 MALE - 10 FEMALE DATASET,"
   ]
  },
  {
   "cell_type": "code",
   "execution_count": 15,
   "metadata": {},
   "outputs": [],
   "source": [
    "biased_m = pd.read_csv(\"../../../data/biased_male.csv\",engine=\"python\")\n",
    "bm = []\n",
    "for each in biased_m['Sentences']:\n",
    "    bm.append(TextBlob(each))"
   ]
  },
  {
   "cell_type": "code",
   "execution_count": 16,
   "metadata": {},
   "outputs": [],
   "source": [
    "sentiment_m = []\n",
    "for each in bm:\n",
    "    sentiment_m.append(each.sentiment[0])\n",
    "subjectivity_m = []\n",
    "for each in bm:\n",
    "    subjectivity_m.append(each.sentiment[1])\n",
    "text_m = []\n",
    "for each in biased_m['Sentences']:\n",
    "    text_m.append(each)"
   ]
  },
  {
   "cell_type": "code",
   "execution_count": 17,
   "metadata": {},
   "outputs": [],
   "source": [
    "d_m = {'Sentence':text_m,'Sentiment':sentiment_m,'Subjectivity':subjectivity_m}\n",
    "final_df_m = pd.DataFrame(d_m, columns=['Sentence','Sentiment','Subjectivity'])\n",
    "final_df_m.to_csv('TextBlobBiasedM.csv')"
   ]
  },
  {
   "cell_type": "markdown",
   "metadata": {},
   "source": [
    "FOR 90 FEMALE - 10 MALE DATASET,"
   ]
  },
  {
   "cell_type": "code",
   "execution_count": 19,
   "metadata": {},
   "outputs": [],
   "source": [
    "biased_f = pd.read_csv(\"../../../data/biased_female.csv\",engine=\"python\")\n",
    "bf = []\n",
    "for each in biased_f['Sentences']:\n",
    "    bf.append(TextBlob(each))\n",
    "    \n",
    "sentiment_f = []\n",
    "for each in bf:\n",
    "    sentiment_f.append(each.sentiment[0])\n",
    "subjectivity_f = []\n",
    "for each in bf:\n",
    "    subjectivity_f.append(each.sentiment[1])\n",
    "text_f = []\n",
    "for each in biased_f['Sentences']:\n",
    "    text_f.append(each)\n",
    "    \n",
    "d_f = {'Sentence':text_f,'Sentiment':sentiment_f,'Subjectivity':subjectivity_f}\n",
    "final_df_f = pd.DataFrame(d_f, columns=['Sentence','Sentiment','Subjectivity'])\n",
    "final_df_f.to_csv('TextBlobBiasedF.csv')"
   ]
  }
 ],
 "metadata": {
  "kernelspec": {
   "display_name": "Python 3",
   "language": "python",
   "name": "python3"
  },
  "language_info": {
   "codemirror_mode": {
    "name": "ipython",
    "version": 3
   },
   "file_extension": ".py",
   "mimetype": "text/x-python",
   "name": "python",
   "nbconvert_exporter": "python",
   "pygments_lexer": "ipython3",
   "version": "3.7.7"
  }
 },
 "nbformat": 4,
 "nbformat_minor": 4
}
