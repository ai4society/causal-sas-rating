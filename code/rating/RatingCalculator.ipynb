{
 "cells": [
  {
   "cell_type": "code",
   "execution_count": 1,
   "metadata": {},
   "outputs": [],
   "source": [
    "## Read raw ratings and biased/ unbiased data\n",
    "import pandas as pd"
   ]
  },
  {
   "cell_type": "code",
   "execution_count": 2,
   "metadata": {},
   "outputs": [],
   "source": [
    "datadir = '../../data/results/'\n",
    "modeldir = 'textblob/'\n",
    "#rawscorefile = 'result_p1_b_.1_.9.csv'\n",
    "rawscorefile = 'result_p1_u_.5_.5.csv'\n",
    "file = datadir + modeldir + rawscorefile"
   ]
  },
  {
   "cell_type": "code",
   "execution_count": 3,
   "metadata": {},
   "outputs": [],
   "source": [
    "biastypes = ['b', 'u']\n",
    "u_vals = [ \n",
    "         ['.5', '.5']\n",
    "       ] \n",
    "b_vals = [ ['.1', '.9'] ,\n",
    "         ['.9', '.1'],\n",
    "       ] \n",
    "wp = ['p1','p2', 'p3', 'p4', 'p5']"
   ]
  },
  {
   "cell_type": "code",
   "execution_count": 4,
   "metadata": {},
   "outputs": [],
   "source": [
    "# For a wordpair, get files\n",
    "def getFileNamesForWordPairs(w):\n",
    "\n",
    "    files = []\n",
    "    filename = ''\n",
    "\n",
    "    for bt in biastypes:\n",
    "        if (bt == 'u'):\n",
    "            for uv in u_vals:\n",
    "                filename = 'result_' + w + \"_\" + bt + '_' + uv[0] + '_' + uv[1] + '.csv'\n",
    "                #print (filename)\n",
    "                files.append(filename)\n",
    "                \n",
    "        if (bt == 'b'):\n",
    "            for bv in b_vals:\n",
    "                filename = 'result_' + w + \"_\" + bt + '_' + bv[0] + '_' + bv[1] + '.csv'\n",
    "                #print (filename)\n",
    "                files.append(filename)\n",
    "                \n",
    "    return files\n"
   ]
  },
  {
   "cell_type": "code",
   "execution_count": 5,
   "metadata": {},
   "outputs": [
    {
     "name": "stdout",
     "output_type": "stream",
     "text": [
      "{'p1': ['result_p1_b_.1_.9.csv', 'result_p1_b_.9_.1.csv', 'result_p1_u_.5_.5.csv'], 'p2': ['result_p2_b_.1_.9.csv', 'result_p2_b_.9_.1.csv', 'result_p2_u_.5_.5.csv'], 'p3': ['result_p3_b_.1_.9.csv', 'result_p3_b_.9_.1.csv', 'result_p3_u_.5_.5.csv'], 'p4': ['result_p4_b_.1_.9.csv', 'result_p4_b_.9_.1.csv', 'result_p4_u_.5_.5.csv'], 'p5': ['result_p5_b_.1_.9.csv', 'result_p5_b_.9_.1.csv', 'result_p5_u_.5_.5.csv']}\n"
     ]
    }
   ],
   "source": [
    "# Make dictionary of word phrases and files\n",
    "wp_files_dict = {}\n",
    "for w in wp:\n",
    "    wp_files_dict[w] = getFileNamesForWordPairs(w)\n",
    "print (wp_files_dict)"
   ]
  },
  {
   "cell_type": "code",
   "execution_count": 9,
   "metadata": {},
   "outputs": [],
   "source": [
    "def get_sentiment_freqcount_file(f):\n",
    "    file = datadir + modeldir + f\n",
    "    data = pd.read_csv(file)\n",
    "    print (data['Gender'].value_counts())\n",
    "    print (data['Sentiment'].value_counts())"
   ]
  },
  {
   "cell_type": "code",
   "execution_count": 12,
   "metadata": {},
   "outputs": [
    {
     "name": "stdout",
     "output_type": "stream",
     "text": [
      "\n",
      " -----> p1\n",
      "result_p1_b_.1_.9.csv\n",
      "female    75\n",
      "male       5\n",
      "Name: Gender, dtype: int64\n",
      " 0.6    40\n",
      "-0.5    40\n",
      "Name: Sentiment, dtype: int64\n",
      "result_p1_b_.9_.1.csv\n",
      "male      71\n",
      "female     9\n",
      "Name: Gender, dtype: int64\n",
      " 0.6    40\n",
      "-0.5    40\n",
      "Name: Sentiment, dtype: int64\n",
      "result_p1_u_.5_.5.csv\n",
      "female    44\n",
      "male      36\n",
      "Name: Gender, dtype: int64\n",
      " 0.6    40\n",
      "-0.5    40\n",
      "Name: Sentiment, dtype: int64\n",
      "\n",
      " -----> p2\n",
      "result_p1_b_.1_.9.csv\n",
      "female    75\n",
      "male       5\n",
      "Name: Gender, dtype: int64\n",
      " 0.6    40\n",
      "-0.5    40\n",
      "Name: Sentiment, dtype: int64\n",
      "result_p1_b_.9_.1.csv\n",
      "male      71\n",
      "female     9\n",
      "Name: Gender, dtype: int64\n",
      " 0.6    40\n",
      "-0.5    40\n",
      "Name: Sentiment, dtype: int64\n",
      "result_p1_u_.5_.5.csv\n",
      "female    44\n",
      "male      36\n",
      "Name: Gender, dtype: int64\n",
      " 0.6    40\n",
      "-0.5    40\n",
      "Name: Sentiment, dtype: int64\n",
      "\n",
      " -----> p3\n",
      "result_p1_b_.1_.9.csv\n",
      "female    75\n",
      "male       5\n",
      "Name: Gender, dtype: int64\n",
      " 0.6    40\n",
      "-0.5    40\n",
      "Name: Sentiment, dtype: int64\n",
      "result_p1_b_.9_.1.csv\n",
      "male      71\n",
      "female     9\n",
      "Name: Gender, dtype: int64\n",
      " 0.6    40\n",
      "-0.5    40\n",
      "Name: Sentiment, dtype: int64\n",
      "result_p1_u_.5_.5.csv\n",
      "female    44\n",
      "male      36\n",
      "Name: Gender, dtype: int64\n",
      " 0.6    40\n",
      "-0.5    40\n",
      "Name: Sentiment, dtype: int64\n",
      "\n",
      " -----> p4\n",
      "result_p1_b_.1_.9.csv\n",
      "female    75\n",
      "male       5\n",
      "Name: Gender, dtype: int64\n",
      " 0.6    40\n",
      "-0.5    40\n",
      "Name: Sentiment, dtype: int64\n",
      "result_p1_b_.9_.1.csv\n",
      "male      71\n",
      "female     9\n",
      "Name: Gender, dtype: int64\n",
      " 0.6    40\n",
      "-0.5    40\n",
      "Name: Sentiment, dtype: int64\n",
      "result_p1_u_.5_.5.csv\n",
      "female    44\n",
      "male      36\n",
      "Name: Gender, dtype: int64\n",
      " 0.6    40\n",
      "-0.5    40\n",
      "Name: Sentiment, dtype: int64\n",
      "\n",
      " -----> p5\n",
      "result_p1_b_.1_.9.csv\n",
      "female    75\n",
      "male       5\n",
      "Name: Gender, dtype: int64\n",
      " 0.6    40\n",
      "-0.5    40\n",
      "Name: Sentiment, dtype: int64\n",
      "result_p1_b_.9_.1.csv\n",
      "male      71\n",
      "female     9\n",
      "Name: Gender, dtype: int64\n",
      " 0.6    40\n",
      "-0.5    40\n",
      "Name: Sentiment, dtype: int64\n",
      "result_p1_u_.5_.5.csv\n",
      "female    44\n",
      "male      36\n",
      "Name: Gender, dtype: int64\n",
      " 0.6    40\n",
      "-0.5    40\n",
      "Name: Sentiment, dtype: int64\n"
     ]
    }
   ],
   "source": [
    "# fl = wp_files_dict['p1']\n",
    "for w in wp:\n",
    "    print ('\\n -----> ' + w)\n",
    "    for f in fl:\n",
    "        print (f)\n",
    "        get_sentiment_freqcount_file(f)"
   ]
  },
  {
   "cell_type": "code",
   "execution_count": null,
   "metadata": {},
   "outputs": [],
   "source": [
    "# Load data\n",
    "data = pd.read_csv(file)\n",
    "\n",
    "nRow, nCol = data.shape\n",
    "print(f'INFO: There are {nRow} rows and {nCol} columns in the raw data file.')"
   ]
  },
  {
   "cell_type": "code",
   "execution_count": null,
   "metadata": {},
   "outputs": [],
   "source": [
    "data.head()"
   ]
  },
  {
   "cell_type": "code",
   "execution_count": null,
   "metadata": {},
   "outputs": [],
   "source": [
    "data['Gender'].value_counts()"
   ]
  },
  {
   "cell_type": "code",
   "execution_count": null,
   "metadata": {},
   "outputs": [],
   "source": [
    "data['Sentiment'].value_counts()"
   ]
  },
  {
   "cell_type": "code",
   "execution_count": null,
   "metadata": {},
   "outputs": [],
   "source": []
  }
 ],
 "metadata": {
  "kernelspec": {
   "display_name": "Python 3",
   "language": "python",
   "name": "python3"
  },
  "language_info": {
   "codemirror_mode": {
    "name": "ipython",
    "version": 3
   },
   "file_extension": ".py",
   "mimetype": "text/x-python",
   "name": "python",
   "nbconvert_exporter": "python",
   "pygments_lexer": "ipython3",
   "version": "3.7.6"
  }
 },
 "nbformat": 4,
 "nbformat_minor": 4
}
