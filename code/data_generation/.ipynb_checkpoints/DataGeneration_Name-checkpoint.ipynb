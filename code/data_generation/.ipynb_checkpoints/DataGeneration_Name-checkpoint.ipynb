{
 "cells": [
  {
   "cell_type": "code",
   "execution_count": 1,
   "metadata": {},
   "outputs": [],
   "source": [
    "import pandas as pd\n",
    "import random"
   ]
  },
  {
   "cell_type": "code",
   "execution_count": 2,
   "metadata": {},
   "outputs": [],
   "source": [
    "original_data = pd.read_csv(\"../../data/equity-corpus/Equity-Evaluation-Corpus.csv\",engine=\"python\")\n",
    "\n",
    "template = sorted(set(original_data['Template']))\n",
    "template = list([template[0],template[4],template[6],template[10]])"
   ]
  },
  {
   "cell_type": "code",
   "execution_count": 4,
   "metadata": {},
   "outputs": [
    {
     "name": "stdout",
     "output_type": "stream",
     "text": [
      "['Adam', 'Alan', 'Alonzo', 'Alphonse', 'Andrew']\n"
     ]
    }
   ],
   "source": [
    "male = list(sorted(set(original_data[original_data['Gender']=='male']['Person'])))[:10]\n",
    "print(male)"
   ]
  },
  {
   "cell_type": "code",
   "execution_count": 5,
   "metadata": {},
   "outputs": [
    {
     "name": "stdout",
     "output_type": "stream",
     "text": [
      "['Amanda', 'Betsy', 'Courtney', 'Ebony', 'Ellen']\n"
     ]
    }
   ],
   "source": [
    "female = list(sorted(set(original_data[original_data['Gender']=='female']['Person'])))[:10]\n",
    "print(female)"
   ]
  },
  {
   "cell_type": "code",
   "execution_count": 8,
   "metadata": {},
   "outputs": [
    {
     "name": "stdout",
     "output_type": "stream",
     "text": [
      "['angry', 'amazing', 'annoying', 'excited', 'depressing', 'funny', 'displeasing', 'glad', 'dreadful', 'great']\n",
      "This is set 1\n",
      "Negtive word : 'angry' , Positive word : 'amazing'\n",
      "Unbiased set male count is 20 and female count is 20\n",
      "biased_male set male count is 34 and female count is 6\n",
      "biased_female set male count is 6 and female count is 34\n",
      "\n",
      "This is set 2\n",
      "Negtive word : 'annoying' , Positive word : 'excited'\n",
      "Unbiased set male count is 20 and female count is 20\n",
      "biased_male set male count is 34 and female count is 6\n",
      "biased_female set male count is 3 and female count is 37\n",
      "\n",
      "This is set 3\n",
      "Negtive word : 'depressing' , Positive word : 'funny'\n",
      "Unbiased set male count is 23 and female count is 17\n",
      "biased_male set male count is 30 and female count is 10\n",
      "biased_female set male count is 4 and female count is 36\n",
      "\n",
      "This is set 4\n",
      "Negtive word : 'displeasing' , Positive word : 'glad'\n",
      "Unbiased set male count is 17 and female count is 23\n",
      "biased_male set male count is 34 and female count is 6\n",
      "biased_female set male count is 4 and female count is 36\n",
      "\n",
      "This is set 5\n",
      "Negtive word : 'dreadful' , Positive word : 'great'\n",
      "Unbiased set male count is 21 and female count is 19\n",
      "biased_male set male count is 37 and female count is 3\n",
      "biased_female set male count is 3 and female count is 37\n",
      "\n"
     ]
    }
   ],
   "source": [
    "emo = list(set(original_data[\"Emotion word\"]))\n",
    "emo = [each for each in emo if str(each) != 'nan']\n",
    "emo = sorted(emo)\n",
    "#for each in enumerate(emo):\n",
    "    #print(each)\n",
    "\n",
    "emotion_words = [emo[1],emo[0],emo[3],emo[14],emo[6],emo[16],emo[10],emo[18],emo[11],emo[20]]\n",
    "print(emotion_words)\n",
    "file_count = 0\n",
    "\n",
    "\n",
    "\n",
    "for top in range(0,10,2):\n",
    "    file_count += 1\n",
    "    print(\"This is set {}\".format(file_count))\n",
    "\n",
    "    emotion_word = emotion_words[top:top+2]\n",
    "    print(\"Negtive word : '{}' , Positive word : '{}'\".format(emotion_word[0],emotion_word[1]))\n",
    "\n",
    "    sentences = []\n",
    "    for j in range(len(emotion_word)):\n",
    "        for k in range(len(template)):\n",
    "            sentences.append(template[k].replace(\"<emotion word>\",emotion_word[j]))\n",
    "    sentences = list(sentences)\n",
    "    gender = ['male','female']\n",
    "    unbiased_sentences = []\n",
    "    female_count = 0\n",
    "    male_count = 0\n",
    "    gender_name = []\n",
    "\n",
    "    for m,f in zip(male,female):\n",
    "        for each in sentences:\n",
    "            choice = random.choices(gender,[0.5,0.5])\n",
    "            if(choice == ['male']):\n",
    "                unbiased_sentences.append(each.replace(\"<person object>\",m).replace(\"<person subject>\",m))\n",
    "                gender_name.append(\"male\")\n",
    "                male_count += 1\n",
    "            elif(choice == ['female']):\n",
    "                unbiased_sentences.append(each.replace(\"<person object>\",f).replace(\"<person subject>\",f))\n",
    "                gender_name.append(\"female\")\n",
    "                female_count += 1\n",
    "\n",
    "    print(\"Unbiased set male count is\",male_count,\"and female count is\",female_count)\n",
    "    (pd.DataFrame.from_dict({'Sentences':unbiased_sentences,'Gender':gender_name})).to_csv('../../data/data-generated/withnames/u{}.csv'.format(file_count),index=False)\n",
    "\n",
    "    biased_male = []\n",
    "    female_count = 0\n",
    "    male_count = 0\n",
    "    gender_name = []\n",
    "\n",
    "    for m,f in zip(male,female):\n",
    "        for each in sentences:\n",
    "            choice = random.choices(gender,[0.9,0.1])\n",
    "            if(choice == ['male']):\n",
    "                biased_male.append(each.replace(\"<person object>\",m).replace(\"<person subject>\",m))\n",
    "                gender_name.append(\"male\")\n",
    "                male_count += 1\n",
    "            elif(choice == ['female']):\n",
    "                biased_male.append(each.replace(\"<person object>\",f).replace(\"<person subject>\",f))\n",
    "                gender_name.append(\"female\")\n",
    "                female_count += 1\n",
    "\n",
    "    print(\"biased_male set male count is\",male_count,\"and female count is\",female_count)\n",
    "    (pd.DataFrame.from_dict({'Sentences':biased_male,'Gender':gender_name})).to_csv('../../data/data-generated/withnames/bm{}.csv'.format(file_count),index=False)\n",
    "\n",
    "    biased_female = []\n",
    "    female_count = 0\n",
    "    male_count = 0\n",
    "    gender_name = []\n",
    "\n",
    "    for m,f in zip(male,female):\n",
    "        for each in sentences:\n",
    "            choice = random.choices(gender,[0.1,0.9])\n",
    "            if(choice == ['male']):\n",
    "                biased_female.append(each.replace(\"<person object>\",m).replace(\"<person subject>\",m))\n",
    "                gender_name.append(\"male\")\n",
    "                male_count += 1\n",
    "            elif(choice == ['female']):\n",
    "                biased_female.append(each.replace(\"<person object>\",f).replace(\"<person subject>\",f))\n",
    "                gender_name.append(\"female\")\n",
    "                female_count += 1\n",
    "\n",
    "    print(\"biased_female set male count is\",male_count,\"and female count is\",female_count)\n",
    "    print()\n",
    "    (pd.DataFrame.from_dict({'Sentences':biased_female,'Gender':gender_name})).to_csv('../../data/data-generated/withnames/bf{}.csv'.format(file_count),index=False)\n"
   ]
  }
 ],
 "metadata": {
  "kernelspec": {
   "display_name": "Python 3",
   "language": "python",
   "name": "python3"
  },
  "language_info": {
   "codemirror_mode": {
    "name": "ipython",
    "version": 3
   },
   "file_extension": ".py",
   "mimetype": "text/x-python",
   "name": "python",
   "nbconvert_exporter": "python",
   "pygments_lexer": "ipython3",
   "version": "3.7.7"
  }
 },
 "nbformat": 4,
 "nbformat_minor": 4
}
