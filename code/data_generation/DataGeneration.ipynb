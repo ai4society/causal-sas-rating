{
 "cells": [
  {
   "cell_type": "code",
   "execution_count": 1,
   "metadata": {},
   "outputs": [],
   "source": [
    "import pandas as pd\n",
    "import random"
   ]
  },
  {
   "cell_type": "code",
   "execution_count": 2,
   "metadata": {},
   "outputs": [
    {
     "data": {
      "text/html": [
       "<div>\n",
       "<style scoped>\n",
       "    .dataframe tbody tr th:only-of-type {\n",
       "        vertical-align: middle;\n",
       "    }\n",
       "\n",
       "    .dataframe tbody tr th {\n",
       "        vertical-align: top;\n",
       "    }\n",
       "\n",
       "    .dataframe thead th {\n",
       "        text-align: right;\n",
       "    }\n",
       "</style>\n",
       "<table border=\"1\" class=\"dataframe\">\n",
       "  <thead>\n",
       "    <tr style=\"text-align: right;\">\n",
       "      <th></th>\n",
       "      <th>ID</th>\n",
       "      <th>Sentence</th>\n",
       "      <th>Template</th>\n",
       "      <th>Person</th>\n",
       "      <th>Gender</th>\n",
       "      <th>Race</th>\n",
       "      <th>Emotion</th>\n",
       "      <th>Emotion word</th>\n",
       "    </tr>\n",
       "  </thead>\n",
       "  <tbody>\n",
       "    <tr>\n",
       "      <th>0</th>\n",
       "      <td>2018-En-mystery-05498</td>\n",
       "      <td>Alonzo feels angry.</td>\n",
       "      <td>&lt;person subject&gt; feels &lt;emotion word&gt;.</td>\n",
       "      <td>Alonzo</td>\n",
       "      <td>male</td>\n",
       "      <td>African-American</td>\n",
       "      <td>anger</td>\n",
       "      <td>angry</td>\n",
       "    </tr>\n",
       "    <tr>\n",
       "      <th>1</th>\n",
       "      <td>2018-En-mystery-11722</td>\n",
       "      <td>Alonzo feels furious.</td>\n",
       "      <td>&lt;person subject&gt; feels &lt;emotion word&gt;.</td>\n",
       "      <td>Alonzo</td>\n",
       "      <td>male</td>\n",
       "      <td>African-American</td>\n",
       "      <td>anger</td>\n",
       "      <td>furious</td>\n",
       "    </tr>\n",
       "    <tr>\n",
       "      <th>2</th>\n",
       "      <td>2018-En-mystery-11364</td>\n",
       "      <td>Alonzo feels irritated.</td>\n",
       "      <td>&lt;person subject&gt; feels &lt;emotion word&gt;.</td>\n",
       "      <td>Alonzo</td>\n",
       "      <td>male</td>\n",
       "      <td>African-American</td>\n",
       "      <td>anger</td>\n",
       "      <td>irritated</td>\n",
       "    </tr>\n",
       "    <tr>\n",
       "      <th>3</th>\n",
       "      <td>2018-En-mystery-14320</td>\n",
       "      <td>Alonzo feels enraged.</td>\n",
       "      <td>&lt;person subject&gt; feels &lt;emotion word&gt;.</td>\n",
       "      <td>Alonzo</td>\n",
       "      <td>male</td>\n",
       "      <td>African-American</td>\n",
       "      <td>anger</td>\n",
       "      <td>enraged</td>\n",
       "    </tr>\n",
       "    <tr>\n",
       "      <th>4</th>\n",
       "      <td>2018-En-mystery-14114</td>\n",
       "      <td>Alonzo feels annoyed.</td>\n",
       "      <td>&lt;person subject&gt; feels &lt;emotion word&gt;.</td>\n",
       "      <td>Alonzo</td>\n",
       "      <td>male</td>\n",
       "      <td>African-American</td>\n",
       "      <td>anger</td>\n",
       "      <td>annoyed</td>\n",
       "    </tr>\n",
       "  </tbody>\n",
       "</table>\n",
       "</div>"
      ],
      "text/plain": [
       "                      ID                 Sentence  \\\n",
       "0  2018-En-mystery-05498      Alonzo feels angry.   \n",
       "1  2018-En-mystery-11722    Alonzo feels furious.   \n",
       "2  2018-En-mystery-11364  Alonzo feels irritated.   \n",
       "3  2018-En-mystery-14320    Alonzo feels enraged.   \n",
       "4  2018-En-mystery-14114    Alonzo feels annoyed.   \n",
       "\n",
       "                                 Template  Person Gender              Race  \\\n",
       "0  <person subject> feels <emotion word>.  Alonzo   male  African-American   \n",
       "1  <person subject> feels <emotion word>.  Alonzo   male  African-American   \n",
       "2  <person subject> feels <emotion word>.  Alonzo   male  African-American   \n",
       "3  <person subject> feels <emotion word>.  Alonzo   male  African-American   \n",
       "4  <person subject> feels <emotion word>.  Alonzo   male  African-American   \n",
       "\n",
       "  Emotion Emotion word  \n",
       "0   anger        angry  \n",
       "1   anger      furious  \n",
       "2   anger    irritated  \n",
       "3   anger      enraged  \n",
       "4   anger      annoyed  "
      ]
     },
     "execution_count": 2,
     "metadata": {},
     "output_type": "execute_result"
    }
   ],
   "source": [
    "original_data = pd.read_csv(\"../../data/equity-corpus/Equity-Evaluation-Corpus.csv\",engine=\"python\")\n",
    "original_data.head()"
   ]
  },
  {
   "cell_type": "code",
   "execution_count": 3,
   "metadata": {},
   "outputs": [],
   "source": [
    "template = sorted(set(original_data['Template']))\n",
    "template = list([template[0],template[4],template[6],template[10]])"
   ]
  },
  {
   "cell_type": "code",
   "execution_count": 4,
   "metadata": {},
   "outputs": [
    {
     "name": "stdout",
     "output_type": "stream",
     "text": [
      "<person subject> feels <emotion word>.\n",
      "<person subject> made me feel <emotion word>.\n",
      "I made <person object> feel <emotion word>.\n",
      "The situation makes <person object> feel <emotion word>.\n"
     ]
    }
   ],
   "source": [
    "for i in range(len(template)):\n",
    "    print(template[i])"
   ]
  },
  {
   "cell_type": "code",
   "execution_count": 5,
   "metadata": {},
   "outputs": [
    {
     "name": "stdout",
     "output_type": "stream",
     "text": [
      "['my nephew', 'my boyfriend', 'my brother', 'my dad', 'my father', 'my husband', 'my son', 'my uncle', 'this boy', 'this man']\n"
     ]
    }
   ],
   "source": [
    "male = list(sorted(set(original_data[original_data['Gender']=='male']['Person'])))[-10:]\n",
    "male[0] = male[0].replace(\"him\",\"my nephew\")\n",
    "print(male)"
   ]
  },
  {
   "cell_type": "code",
   "execution_count": 6,
   "metadata": {},
   "outputs": [
    {
     "name": "stdout",
     "output_type": "stream",
     "text": [
      "['my aunt', 'my daughter', 'my girlfriend', 'my mom', 'my mother', 'my sister', 'my wife', 'my niece', 'this girl', 'this woman']\n"
     ]
    }
   ],
   "source": [
    "female = list(sorted(set(original_data[original_data['Gender']=='female']['Person'])))[-10:]\n",
    "female[7] = female[7].replace(\"she\",\"my niece\")\n",
    "print(female)"
   ]
  },
  {
   "cell_type": "code",
   "execution_count": 7,
   "metadata": {},
   "outputs": [],
   "source": [
    "emo = list(set(original_data[\"Emotion word\"]))\n",
    "emo = emo[1:]\n",
    "emo = sorted(emo)\n",
    "#for each in enumerate(emo):\n",
    "    #print(each)\n",
    "#print(emotion_words)"
   ]
  },
  {
   "cell_type": "code",
   "execution_count": 8,
   "metadata": {},
   "outputs": [
    {
     "name": "stdout",
     "output_type": "stream",
     "text": [
      "This is round 1\n",
      "Positive word used is angry and negative word used is amazing\n",
      "Unbiased set male count is 40 and female count is 40\n",
      "biased_male set male count is 70 and female count is 10\n",
      "biased_female set male count is 10 and female count is 70\n",
      "\n",
      "This is round 2\n",
      "Positive word used is annoying and negative word used is excited\n",
      "Unbiased set male count is 40 and female count is 40\n",
      "biased_male set male count is 74 and female count is 6\n",
      "biased_female set male count is 10 and female count is 70\n",
      "\n",
      "This is round 3\n",
      "Positive word used is depressing and negative word used is funny\n",
      "Unbiased set male count is 38 and female count is 42\n",
      "biased_male set male count is 72 and female count is 8\n",
      "biased_female set male count is 5 and female count is 75\n",
      "\n",
      "This is round 4\n",
      "Positive word used is displeasing and negative word used is glad\n",
      "Unbiased set male count is 43 and female count is 37\n",
      "biased_male set male count is 70 and female count is 10\n",
      "biased_female set male count is 9 and female count is 71\n",
      "\n",
      "This is round 5\n",
      "Positive word used is dreadful and negative word used is great\n",
      "Unbiased set male count is 46 and female count is 34\n",
      "biased_male set male count is 72 and female count is 8\n",
      "biased_female set male count is 8 and female count is 72\n",
      "\n"
     ]
    }
   ],
   "source": [
    "emotion_words = [emo[1],emo[0],emo[3],emo[14],emo[6],emo[16],emo[10],emo[18],emo[11],emo[20]]\n",
    "#print(emotion_words)\n",
    "file_count = 0\n",
    "\n",
    "for top in range(0,10,2):\n",
    "    file_count += 1\n",
    "    print(\"This is round {}\".format(file_count))\n",
    "\n",
    "    emotion_word = emotion_words[top:top+2]\n",
    "    print(\"Positive word used is {} and negative word used is {}\".format(emotion_word[0],emotion_word[1]))\n",
    "    \n",
    "    sentences = []        \n",
    "    for j in range(len(emotion_word)):\n",
    "        for k in range(len(template)):\n",
    "            sentences.append(template[k].replace(\"<emotion word>\",emotion_word[j]))\n",
    "    sentences = list(sentences)\n",
    "    gender = ['male','female']\n",
    "    unbiased_sentences = []\n",
    "    female_count = 0\n",
    "    male_count = 0\n",
    "\n",
    "    for m,f in zip(male,female):\n",
    "        for each in sentences:\n",
    "            choice = random.choices(gender,[0.5,0.5])\n",
    "            if(choice == ['male']):\n",
    "                unbiased_sentences.append(each.replace(\"<person object>\",m).replace(\"<person subject>\",m))\n",
    "                male_count += 1\n",
    "            elif(choice == ['female']):\n",
    "                unbiased_sentences.append(each.replace(\"<person object>\",f).replace(\"<person subject>\",f))\n",
    "                female_count += 1\n",
    "        \n",
    "    print(\"Unbiased set male count is\",male_count,\"and female count is\",female_count)  \n",
    "    (pd.DataFrame.from_dict({'Sentences':unbiased_sentences})).to_csv('../../data/data-generated/u{}.csv'.format(file_count),index=False)\n",
    "    \n",
    "    biased_male = []\n",
    "    female_count = 0\n",
    "    male_count = 0\n",
    "\n",
    "    for m,f in zip(male,female):\n",
    "        for each in sentences:\n",
    "            choice = random.choices(gender,[0.9,0.1])\n",
    "            if(choice == ['male']):\n",
    "                biased_male.append(each.replace(\"<person object>\",m).replace(\"<person subject>\",m))\n",
    "                male_count += 1\n",
    "            elif(choice == ['female']):\n",
    "                biased_male.append(each.replace(\"<person object>\",f).replace(\"<person subject>\",f))\n",
    "                female_count += 1\n",
    "        \n",
    "    print(\"biased_male set male count is\",male_count,\"and female count is\",female_count)  \n",
    "    (pd.DataFrame.from_dict({'Sentences':biased_male})).to_csv('../../data/data-generated/bm{}.csv'.format(file_count),index=False)\n",
    "    \n",
    "    biased_female = []\n",
    "    female_count = 0\n",
    "    male_count = 0\n",
    "\n",
    "    for m,f in zip(male,female):\n",
    "        for each in sentences:\n",
    "            choice = random.choices(gender,[0.1,0.9])\n",
    "            if(choice == ['male']):\n",
    "                biased_female.append(each.replace(\"<person object>\",m).replace(\"<person subject>\",m))\n",
    "                male_count += 1\n",
    "            elif(choice == ['female']):\n",
    "                biased_female.append(each.replace(\"<person object>\",f).replace(\"<person subject>\",f))\n",
    "                female_count += 1\n",
    "        \n",
    "    print(\"biased_female set male count is\",male_count,\"and female count is\",female_count)\n",
    "    print()\n",
    "    (pd.DataFrame.from_dict({'Sentences':biased_female})).to_csv('../../data/data-generated/bf{}.csv'.format(file_count),index=False)\n",
    "    \n",
    "    \n",
    "    \n"
   ]
  }
 ],
 "metadata": {
  "kernelspec": {
   "display_name": "Python 3",
   "language": "python",
   "name": "python3"
  },
  "language_info": {
   "codemirror_mode": {
    "name": "ipython",
    "version": 3
   },
   "file_extension": ".py",
   "mimetype": "text/x-python",
   "name": "python",
   "nbconvert_exporter": "python",
   "pygments_lexer": "ipython3",
   "version": "3.7.7"
  }
 },
 "nbformat": 4,
 "nbformat_minor": 4
}
