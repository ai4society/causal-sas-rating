{
 "cells": [
  {
   "cell_type": "code",
   "execution_count": 1,
   "metadata": {},
   "outputs": [],
   "source": [
    "import pandas as pd\n",
    "import random"
   ]
  },
  {
   "cell_type": "code",
   "execution_count": 2,
   "metadata": {},
   "outputs": [],
   "source": [
    "original_data = pd.read_csv(\"../../data/equity-corpus/Equity-Evaluation-Corpus.csv\",engine=\"python\")\n",
    "#original_data.head()\n",
    "\n"
   ]
  },
  {
   "cell_type": "code",
   "execution_count": 3,
   "metadata": {},
   "outputs": [],
   "source": [
    "template = sorted(set(original_data['Template']))\n",
    "template = list([template[0],template[4],template[6],template[10]])\n",
    "\n"
   ]
  },
  {
   "cell_type": "code",
   "execution_count": 4,
   "metadata": {},
   "outputs": [
    {
     "name": "stdout",
     "output_type": "stream",
     "text": [
      "['<person subject> feels <emotion word>.', '<person subject> made me feel <emotion word>.', 'I made <person object> feel <emotion word>.', 'The situation makes <person object> feel <emotion word>.']\n"
     ]
    }
   ],
   "source": [
    "print(template)"
   ]
  },
  {
   "cell_type": "code",
   "execution_count": 5,
   "metadata": {},
   "outputs": [],
   "source": [
    "male = list(sorted(set(original_data[original_data['Gender']=='male']['Person'])))[-10:]\n",
    "male[0] = male[0].replace(\"him\",\"my nephew\")\n",
    "\n",
    "female = list(sorted(set(original_data[original_data['Gender']=='female']['Person'])))[-10:]\n",
    "female[7] = female[7].replace(\"she\",\"my niece\")"
   ]
  },
  {
   "cell_type": "code",
   "execution_count": 6,
   "metadata": {},
   "outputs": [
    {
     "name": "stdout",
     "output_type": "stream",
     "text": [
      "['my nephew', 'my boyfriend', 'my brother', 'my dad', 'my father', 'my husband', 'my son', 'my uncle', 'this boy', 'this man']\n",
      "['my aunt', 'my daughter', 'my girlfriend', 'my mom', 'my mother', 'my sister', 'my wife', 'my niece', 'this girl', 'this woman']\n"
     ]
    }
   ],
   "source": [
    "print(male)\n",
    "print(female)"
   ]
  },
  {
   "cell_type": "code",
   "execution_count": 7,
   "metadata": {},
   "outputs": [],
   "source": [
    "emo = list(set(original_data[\"Emotion word\"]))\n",
    "emo = [each for each in emo if str(each) != 'nan']\n",
    "emo = sorted(emo)"
   ]
  },
  {
   "cell_type": "code",
   "execution_count": 8,
   "metadata": {},
   "outputs": [
    {
     "name": "stdout",
     "output_type": "stream",
     "text": [
      "['amazing', 'angry', 'annoyed', 'annoying', 'anxious', 'depressed', 'depressing', 'devastated', 'disappointed', 'discouraged', 'displeasing', 'dreadful', 'ecstatic', 'enraged', 'excited', 'fearful', 'funny', 'furious', 'glad', 'gloomy', 'great', 'grim', 'happy', 'heartbreaking', 'hilarious', 'horrible', 'irritated', 'irritating', 'miserable', 'outrageous', 'relieved', 'sad', 'scared', 'serious', 'shocking', 'terrified', 'terrifying', 'threatening', 'vexing', 'wonderful']\n"
     ]
    }
   ],
   "source": [
    "print(emo)"
   ]
  },
  {
   "cell_type": "code",
   "execution_count": 9,
   "metadata": {},
   "outputs": [
    {
     "name": "stdout",
     "output_type": "stream",
     "text": [
      "['grim', 'happy', 'anxious', 'relieved', 'depressing', 'funny', 'annoying', 'glad', 'miserable', 'ecstatic']\n"
     ]
    }
   ],
   "source": [
    "emotion_words = [emo[21],emo[22],emo[4],emo[30],emo[6],emo[16],emo[3],emo[18],emo[28],emo[12]]\n",
    "print(emotion_words)\n",
    "file_count = 0"
   ]
  },
  {
   "cell_type": "code",
   "execution_count": 15,
   "metadata": {},
   "outputs": [],
   "source": [
    "for each_em_word in emotion_words:\n",
    "    sentences = []        \n",
    "\n",
    "    for k in range(len(template)):\n",
    "        sentences.append(template[k].replace(\"<emotion word>\",each_em_word))\n",
    "\n",
    "    sentences = list(sentences)\n",
    "    final_sentences = []\n",
    "    for m,f in zip(male,female):\n",
    "        for each in sentences:\n",
    "            final_sentences.append(each.replace(\"<person object>\",m).replace(\"<person subject>\",m))\n",
    "            final_sentences.append(each.replace(\"<person object>\",f).replace(\"<person subject>\",f))\n",
    "\n",
    "    (pd.DataFrame.from_dict({'Sentences':final_sentences})).to_csv('../../data/baseline/{}_sentiment.csv'.format(each_em_word),index=False)"
   ]
  }
 ],
 "metadata": {
  "kernelspec": {
   "display_name": "Python 3",
   "language": "python",
   "name": "python3"
  },
  "language_info": {
   "codemirror_mode": {
    "name": "ipython",
    "version": 3
   },
   "file_extension": ".py",
   "mimetype": "text/x-python",
   "name": "python",
   "nbconvert_exporter": "python",
   "pygments_lexer": "ipython3",
   "version": "3.7.7"
  }
 },
 "nbformat": 4,
 "nbformat_minor": 4
}
